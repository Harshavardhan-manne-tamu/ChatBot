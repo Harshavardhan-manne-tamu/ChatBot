{
  "cells": [
    {
      "cell_type": "code",
      "execution_count": 1,
      "metadata": {
        "id": "03hDNX1n-9Yn"
      },
      "outputs": [],
      "source": [
        "import pandas as pd\n",
        "import numpy as np\n",
        "from nltk.corpus import wordnet as wn\n",
        "import csv\n",
        "import json\n",
        "data={\"users\":[]}\n",
        "with open('DATA.json', 'w') as outfile:\n",
        "    json.dump(data, outfile)\n",
        "def write_json(new_data, filename='DATA.json'):\n",
        "    with open(filename,'r+') as file:\n",
        "          # First we load existing data into a dict.\n",
        "        file_data = json.load(file)\n",
        "        # Join new_data with file_data inside emp_details\n",
        "        file_data[\"users\"].append(new_data)\n",
        "        # Sets file's current position at offset.\n",
        "        file.seek(0)\n",
        "        # convert back to json.\n",
        "        json.dump(file_data, file, indent = 4)"
      ]
    },
    {
      "cell_type": "code",
      "execution_count": 2,
      "metadata": {
        "id": "qMlwa46qJwxk"
      },
      "outputs": [],
      "source": [
        "df_tr=pd.read_csv('Training.csv')"
      ]
    },
    {
      "cell_type": "code",
      "execution_count": 3,
      "metadata": {
        "colab": {
          "base_uri": "https://localhost:8080/",
          "height": 342
        },
        "id": "stPaWnnoJw1p",
        "outputId": "1ca10199-8aeb-4f3c-c304-0ae299934a58"
      },
      "outputs": [
        {
          "output_type": "execute_result",
          "data": {
            "text/plain": [
              "   itching  skin_rash  nodal_skin_eruptions  continuous_sneezing  shivering  \\\n",
              "0        1          1                     1                    0          0   \n",
              "1        0          1                     1                    0          0   \n",
              "2        1          0                     1                    0          0   \n",
              "3        1          1                     0                    0          0   \n",
              "4        1          1                     1                    0          0   \n",
              "\n",
              "   chills  joint_pain  stomach_pain  acidity  ulcers_on_tongue  ...  \\\n",
              "0       0           0             0        0                 0  ...   \n",
              "1       0           0             0        0                 0  ...   \n",
              "2       0           0             0        0                 0  ...   \n",
              "3       0           0             0        0                 0  ...   \n",
              "4       0           0             0        0                 0  ...   \n",
              "\n",
              "   blackheads  scurring  skin_peeling  silver_like_dusting  \\\n",
              "0           0         0             0                    0   \n",
              "1           0         0             0                    0   \n",
              "2           0         0             0                    0   \n",
              "3           0         0             0                    0   \n",
              "4           0         0             0                    0   \n",
              "\n",
              "   small_dents_in_nails  inflammatory_nails  blister  red_sore_around_nose  \\\n",
              "0                     0                   0        0                     0   \n",
              "1                     0                   0        0                     0   \n",
              "2                     0                   0        0                     0   \n",
              "3                     0                   0        0                     0   \n",
              "4                     0                   0        0                     0   \n",
              "\n",
              "   yellow_crust_ooze         prognosis  \n",
              "0                  0  Fungal infection  \n",
              "1                  0  Fungal infection  \n",
              "2                  0  Fungal infection  \n",
              "3                  0  Fungal infection  \n",
              "4                  0  Fungal infection  \n",
              "\n",
              "[5 rows x 133 columns]"
            ],
            "text/html": [
              "\n",
              "  <div id=\"df-b55cb626-8eb2-4b86-905c-15526ea79178\" class=\"colab-df-container\">\n",
              "    <div>\n",
              "<style scoped>\n",
              "    .dataframe tbody tr th:only-of-type {\n",
              "        vertical-align: middle;\n",
              "    }\n",
              "\n",
              "    .dataframe tbody tr th {\n",
              "        vertical-align: top;\n",
              "    }\n",
              "\n",
              "    .dataframe thead th {\n",
              "        text-align: right;\n",
              "    }\n",
              "</style>\n",
              "<table border=\"1\" class=\"dataframe\">\n",
              "  <thead>\n",
              "    <tr style=\"text-align: right;\">\n",
              "      <th></th>\n",
              "      <th>itching</th>\n",
              "      <th>skin_rash</th>\n",
              "      <th>nodal_skin_eruptions</th>\n",
              "      <th>continuous_sneezing</th>\n",
              "      <th>shivering</th>\n",
              "      <th>chills</th>\n",
              "      <th>joint_pain</th>\n",
              "      <th>stomach_pain</th>\n",
              "      <th>acidity</th>\n",
              "      <th>ulcers_on_tongue</th>\n",
              "      <th>...</th>\n",
              "      <th>blackheads</th>\n",
              "      <th>scurring</th>\n",
              "      <th>skin_peeling</th>\n",
              "      <th>silver_like_dusting</th>\n",
              "      <th>small_dents_in_nails</th>\n",
              "      <th>inflammatory_nails</th>\n",
              "      <th>blister</th>\n",
              "      <th>red_sore_around_nose</th>\n",
              "      <th>yellow_crust_ooze</th>\n",
              "      <th>prognosis</th>\n",
              "    </tr>\n",
              "  </thead>\n",
              "  <tbody>\n",
              "    <tr>\n",
              "      <th>0</th>\n",
              "      <td>1</td>\n",
              "      <td>1</td>\n",
              "      <td>1</td>\n",
              "      <td>0</td>\n",
              "      <td>0</td>\n",
              "      <td>0</td>\n",
              "      <td>0</td>\n",
              "      <td>0</td>\n",
              "      <td>0</td>\n",
              "      <td>0</td>\n",
              "      <td>...</td>\n",
              "      <td>0</td>\n",
              "      <td>0</td>\n",
              "      <td>0</td>\n",
              "      <td>0</td>\n",
              "      <td>0</td>\n",
              "      <td>0</td>\n",
              "      <td>0</td>\n",
              "      <td>0</td>\n",
              "      <td>0</td>\n",
              "      <td>Fungal infection</td>\n",
              "    </tr>\n",
              "    <tr>\n",
              "      <th>1</th>\n",
              "      <td>0</td>\n",
              "      <td>1</td>\n",
              "      <td>1</td>\n",
              "      <td>0</td>\n",
              "      <td>0</td>\n",
              "      <td>0</td>\n",
              "      <td>0</td>\n",
              "      <td>0</td>\n",
              "      <td>0</td>\n",
              "      <td>0</td>\n",
              "      <td>...</td>\n",
              "      <td>0</td>\n",
              "      <td>0</td>\n",
              "      <td>0</td>\n",
              "      <td>0</td>\n",
              "      <td>0</td>\n",
              "      <td>0</td>\n",
              "      <td>0</td>\n",
              "      <td>0</td>\n",
              "      <td>0</td>\n",
              "      <td>Fungal infection</td>\n",
              "    </tr>\n",
              "    <tr>\n",
              "      <th>2</th>\n",
              "      <td>1</td>\n",
              "      <td>0</td>\n",
              "      <td>1</td>\n",
              "      <td>0</td>\n",
              "      <td>0</td>\n",
              "      <td>0</td>\n",
              "      <td>0</td>\n",
              "      <td>0</td>\n",
              "      <td>0</td>\n",
              "      <td>0</td>\n",
              "      <td>...</td>\n",
              "      <td>0</td>\n",
              "      <td>0</td>\n",
              "      <td>0</td>\n",
              "      <td>0</td>\n",
              "      <td>0</td>\n",
              "      <td>0</td>\n",
              "      <td>0</td>\n",
              "      <td>0</td>\n",
              "      <td>0</td>\n",
              "      <td>Fungal infection</td>\n",
              "    </tr>\n",
              "    <tr>\n",
              "      <th>3</th>\n",
              "      <td>1</td>\n",
              "      <td>1</td>\n",
              "      <td>0</td>\n",
              "      <td>0</td>\n",
              "      <td>0</td>\n",
              "      <td>0</td>\n",
              "      <td>0</td>\n",
              "      <td>0</td>\n",
              "      <td>0</td>\n",
              "      <td>0</td>\n",
              "      <td>...</td>\n",
              "      <td>0</td>\n",
              "      <td>0</td>\n",
              "      <td>0</td>\n",
              "      <td>0</td>\n",
              "      <td>0</td>\n",
              "      <td>0</td>\n",
              "      <td>0</td>\n",
              "      <td>0</td>\n",
              "      <td>0</td>\n",
              "      <td>Fungal infection</td>\n",
              "    </tr>\n",
              "    <tr>\n",
              "      <th>4</th>\n",
              "      <td>1</td>\n",
              "      <td>1</td>\n",
              "      <td>1</td>\n",
              "      <td>0</td>\n",
              "      <td>0</td>\n",
              "      <td>0</td>\n",
              "      <td>0</td>\n",
              "      <td>0</td>\n",
              "      <td>0</td>\n",
              "      <td>0</td>\n",
              "      <td>...</td>\n",
              "      <td>0</td>\n",
              "      <td>0</td>\n",
              "      <td>0</td>\n",
              "      <td>0</td>\n",
              "      <td>0</td>\n",
              "      <td>0</td>\n",
              "      <td>0</td>\n",
              "      <td>0</td>\n",
              "      <td>0</td>\n",
              "      <td>Fungal infection</td>\n",
              "    </tr>\n",
              "  </tbody>\n",
              "</table>\n",
              "<p>5 rows × 133 columns</p>\n",
              "</div>\n",
              "    <div class=\"colab-df-buttons\">\n",
              "\n",
              "  <div class=\"colab-df-container\">\n",
              "    <button class=\"colab-df-convert\" onclick=\"convertToInteractive('df-b55cb626-8eb2-4b86-905c-15526ea79178')\"\n",
              "            title=\"Convert this dataframe to an interactive table.\"\n",
              "            style=\"display:none;\">\n",
              "\n",
              "  <svg xmlns=\"http://www.w3.org/2000/svg\" height=\"24px\" viewBox=\"0 -960 960 960\">\n",
              "    <path d=\"M120-120v-720h720v720H120Zm60-500h600v-160H180v160Zm220 220h160v-160H400v160Zm0 220h160v-160H400v160ZM180-400h160v-160H180v160Zm440 0h160v-160H620v160ZM180-180h160v-160H180v160Zm440 0h160v-160H620v160Z\"/>\n",
              "  </svg>\n",
              "    </button>\n",
              "\n",
              "  <style>\n",
              "    .colab-df-container {\n",
              "      display:flex;\n",
              "      gap: 12px;\n",
              "    }\n",
              "\n",
              "    .colab-df-convert {\n",
              "      background-color: #E8F0FE;\n",
              "      border: none;\n",
              "      border-radius: 50%;\n",
              "      cursor: pointer;\n",
              "      display: none;\n",
              "      fill: #1967D2;\n",
              "      height: 32px;\n",
              "      padding: 0 0 0 0;\n",
              "      width: 32px;\n",
              "    }\n",
              "\n",
              "    .colab-df-convert:hover {\n",
              "      background-color: #E2EBFA;\n",
              "      box-shadow: 0px 1px 2px rgba(60, 64, 67, 0.3), 0px 1px 3px 1px rgba(60, 64, 67, 0.15);\n",
              "      fill: #174EA6;\n",
              "    }\n",
              "\n",
              "    .colab-df-buttons div {\n",
              "      margin-bottom: 4px;\n",
              "    }\n",
              "\n",
              "    [theme=dark] .colab-df-convert {\n",
              "      background-color: #3B4455;\n",
              "      fill: #D2E3FC;\n",
              "    }\n",
              "\n",
              "    [theme=dark] .colab-df-convert:hover {\n",
              "      background-color: #434B5C;\n",
              "      box-shadow: 0px 1px 3px 1px rgba(0, 0, 0, 0.15);\n",
              "      filter: drop-shadow(0px 1px 2px rgba(0, 0, 0, 0.3));\n",
              "      fill: #FFFFFF;\n",
              "    }\n",
              "  </style>\n",
              "\n",
              "    <script>\n",
              "      const buttonEl =\n",
              "        document.querySelector('#df-b55cb626-8eb2-4b86-905c-15526ea79178 button.colab-df-convert');\n",
              "      buttonEl.style.display =\n",
              "        google.colab.kernel.accessAllowed ? 'block' : 'none';\n",
              "\n",
              "      async function convertToInteractive(key) {\n",
              "        const element = document.querySelector('#df-b55cb626-8eb2-4b86-905c-15526ea79178');\n",
              "        const dataTable =\n",
              "          await google.colab.kernel.invokeFunction('convertToInteractive',\n",
              "                                                    [key], {});\n",
              "        if (!dataTable) return;\n",
              "\n",
              "        const docLinkHtml = 'Like what you see? Visit the ' +\n",
              "          '<a target=\"_blank\" href=https://colab.research.google.com/notebooks/data_table.ipynb>data table notebook</a>'\n",
              "          + ' to learn more about interactive tables.';\n",
              "        element.innerHTML = '';\n",
              "        dataTable['output_type'] = 'display_data';\n",
              "        await google.colab.output.renderOutput(dataTable, element);\n",
              "        const docLink = document.createElement('div');\n",
              "        docLink.innerHTML = docLinkHtml;\n",
              "        element.appendChild(docLink);\n",
              "      }\n",
              "    </script>\n",
              "  </div>\n",
              "\n",
              "\n",
              "<div id=\"df-ed1574d3-e137-4e97-b9ac-2727acd8b2f5\">\n",
              "  <button class=\"colab-df-quickchart\" onclick=\"quickchart('df-ed1574d3-e137-4e97-b9ac-2727acd8b2f5')\"\n",
              "            title=\"Suggest charts\"\n",
              "            style=\"display:none;\">\n",
              "\n",
              "<svg xmlns=\"http://www.w3.org/2000/svg\" height=\"24px\"viewBox=\"0 0 24 24\"\n",
              "     width=\"24px\">\n",
              "    <g>\n",
              "        <path d=\"M19 3H5c-1.1 0-2 .9-2 2v14c0 1.1.9 2 2 2h14c1.1 0 2-.9 2-2V5c0-1.1-.9-2-2-2zM9 17H7v-7h2v7zm4 0h-2V7h2v10zm4 0h-2v-4h2v4z\"/>\n",
              "    </g>\n",
              "</svg>\n",
              "  </button>\n",
              "\n",
              "<style>\n",
              "  .colab-df-quickchart {\n",
              "      --bg-color: #E8F0FE;\n",
              "      --fill-color: #1967D2;\n",
              "      --hover-bg-color: #E2EBFA;\n",
              "      --hover-fill-color: #174EA6;\n",
              "      --disabled-fill-color: #AAA;\n",
              "      --disabled-bg-color: #DDD;\n",
              "  }\n",
              "\n",
              "  [theme=dark] .colab-df-quickchart {\n",
              "      --bg-color: #3B4455;\n",
              "      --fill-color: #D2E3FC;\n",
              "      --hover-bg-color: #434B5C;\n",
              "      --hover-fill-color: #FFFFFF;\n",
              "      --disabled-bg-color: #3B4455;\n",
              "      --disabled-fill-color: #666;\n",
              "  }\n",
              "\n",
              "  .colab-df-quickchart {\n",
              "    background-color: var(--bg-color);\n",
              "    border: none;\n",
              "    border-radius: 50%;\n",
              "    cursor: pointer;\n",
              "    display: none;\n",
              "    fill: var(--fill-color);\n",
              "    height: 32px;\n",
              "    padding: 0;\n",
              "    width: 32px;\n",
              "  }\n",
              "\n",
              "  .colab-df-quickchart:hover {\n",
              "    background-color: var(--hover-bg-color);\n",
              "    box-shadow: 0 1px 2px rgba(60, 64, 67, 0.3), 0 1px 3px 1px rgba(60, 64, 67, 0.15);\n",
              "    fill: var(--button-hover-fill-color);\n",
              "  }\n",
              "\n",
              "  .colab-df-quickchart-complete:disabled,\n",
              "  .colab-df-quickchart-complete:disabled:hover {\n",
              "    background-color: var(--disabled-bg-color);\n",
              "    fill: var(--disabled-fill-color);\n",
              "    box-shadow: none;\n",
              "  }\n",
              "\n",
              "  .colab-df-spinner {\n",
              "    border: 2px solid var(--fill-color);\n",
              "    border-color: transparent;\n",
              "    border-bottom-color: var(--fill-color);\n",
              "    animation:\n",
              "      spin 1s steps(1) infinite;\n",
              "  }\n",
              "\n",
              "  @keyframes spin {\n",
              "    0% {\n",
              "      border-color: transparent;\n",
              "      border-bottom-color: var(--fill-color);\n",
              "      border-left-color: var(--fill-color);\n",
              "    }\n",
              "    20% {\n",
              "      border-color: transparent;\n",
              "      border-left-color: var(--fill-color);\n",
              "      border-top-color: var(--fill-color);\n",
              "    }\n",
              "    30% {\n",
              "      border-color: transparent;\n",
              "      border-left-color: var(--fill-color);\n",
              "      border-top-color: var(--fill-color);\n",
              "      border-right-color: var(--fill-color);\n",
              "    }\n",
              "    40% {\n",
              "      border-color: transparent;\n",
              "      border-right-color: var(--fill-color);\n",
              "      border-top-color: var(--fill-color);\n",
              "    }\n",
              "    60% {\n",
              "      border-color: transparent;\n",
              "      border-right-color: var(--fill-color);\n",
              "    }\n",
              "    80% {\n",
              "      border-color: transparent;\n",
              "      border-right-color: var(--fill-color);\n",
              "      border-bottom-color: var(--fill-color);\n",
              "    }\n",
              "    90% {\n",
              "      border-color: transparent;\n",
              "      border-bottom-color: var(--fill-color);\n",
              "    }\n",
              "  }\n",
              "</style>\n",
              "\n",
              "  <script>\n",
              "    async function quickchart(key) {\n",
              "      const quickchartButtonEl =\n",
              "        document.querySelector('#' + key + ' button');\n",
              "      quickchartButtonEl.disabled = true;  // To prevent multiple clicks.\n",
              "      quickchartButtonEl.classList.add('colab-df-spinner');\n",
              "      try {\n",
              "        const charts = await google.colab.kernel.invokeFunction(\n",
              "            'suggestCharts', [key], {});\n",
              "      } catch (error) {\n",
              "        console.error('Error during call to suggestCharts:', error);\n",
              "      }\n",
              "      quickchartButtonEl.classList.remove('colab-df-spinner');\n",
              "      quickchartButtonEl.classList.add('colab-df-quickchart-complete');\n",
              "    }\n",
              "    (() => {\n",
              "      let quickchartButtonEl =\n",
              "        document.querySelector('#df-ed1574d3-e137-4e97-b9ac-2727acd8b2f5 button');\n",
              "      quickchartButtonEl.style.display =\n",
              "        google.colab.kernel.accessAllowed ? 'block' : 'none';\n",
              "    })();\n",
              "  </script>\n",
              "</div>\n",
              "    </div>\n",
              "  </div>\n"
            ]
          },
          "metadata": {},
          "execution_count": 3
        }
      ],
      "source": [
        "df_tr.head()"
      ]
    },
    {
      "cell_type": "code",
      "execution_count": 4,
      "metadata": {
        "id": "qxsdKRidJw3e"
      },
      "outputs": [],
      "source": [
        "df_tt=pd.read_csv('Testing.csv')"
      ]
    },
    {
      "cell_type": "code",
      "execution_count": 5,
      "metadata": {
        "id": "B2YpPipsJw6M"
      },
      "outputs": [],
      "source": [
        "symp=[]\n",
        "disease=[]\n",
        "for i in range(len(df_tr)):\n",
        "    symp.append(df_tr.columns[df_tr.iloc[i]==1].to_list())\n",
        "    disease.append(df_tr.iloc[i,-1])"
      ]
    },
    {
      "cell_type": "code",
      "execution_count": 6,
      "metadata": {
        "colab": {
          "base_uri": "https://localhost:8080/"
        },
        "id": "4L13KpqOJw8k",
        "outputId": "e3cbdaac-13af-4835-a45a-070aca22003e"
      },
      "outputs": [
        {
          "output_type": "execute_result",
          "data": {
            "text/plain": [
              "['itching', 'skin_rash', 'nodal_skin_eruptions', 'dischromic _patches']"
            ]
          },
          "metadata": {},
          "execution_count": 6
        }
      ],
      "source": [
        "symp[0]"
      ]
    },
    {
      "cell_type": "code",
      "execution_count": 7,
      "metadata": {
        "colab": {
          "base_uri": "https://localhost:8080/",
          "height": 36
        },
        "id": "EUJmvSIhJxAA",
        "outputId": "83e866cf-a5f4-49cd-ddb9-cb392743ed50"
      },
      "outputs": [
        {
          "output_type": "execute_result",
          "data": {
            "text/plain": [
              "'Peptic ulcer diseae'"
            ],
            "application/vnd.google.colaboratory.intrinsic+json": {
              "type": "string"
            }
          },
          "metadata": {},
          "execution_count": 7
        }
      ],
      "source": [
        "disease[50]"
      ]
    },
    {
      "cell_type": "code",
      "execution_count": 8,
      "metadata": {
        "id": "ZYtnl676JxJ4"
      },
      "outputs": [],
      "source": [
        "all_symp_col=list(df_tr.columns[:-1])\n",
        "def clean_symp(sym):\n",
        "    return sym.replace('_',' ').replace('.1','').replace('(typhos)','').replace('yellowish','yellow').replace('yellowing','yellow')\n"
      ]
    },
    {
      "cell_type": "code",
      "execution_count": 9,
      "metadata": {
        "id": "CmBQmQqTJxNT"
      },
      "outputs": [],
      "source": [
        "all_symp=[clean_symp(sym) for sym in (all_symp_col)]\n"
      ]
    },
    {
      "cell_type": "code",
      "execution_count": 10,
      "metadata": {
        "colab": {
          "base_uri": "https://localhost:8080/"
        },
        "id": "hxga2f2EUbee",
        "outputId": "053fe090-66fc-40f7-d354-1fee7819f8b9"
      },
      "outputs": [
        {
          "output_type": "stream",
          "name": "stderr",
          "text": [
            "[nltk_data] Downloading collection 'all'\n",
            "[nltk_data]    | \n",
            "[nltk_data]    | Downloading package abc to /root/nltk_data...\n",
            "[nltk_data]    |   Unzipping corpora/abc.zip.\n",
            "[nltk_data]    | Downloading package alpino to /root/nltk_data...\n",
            "[nltk_data]    |   Unzipping corpora/alpino.zip.\n",
            "[nltk_data]    | Downloading package averaged_perceptron_tagger to\n",
            "[nltk_data]    |     /root/nltk_data...\n",
            "[nltk_data]    |   Unzipping taggers/averaged_perceptron_tagger.zip.\n",
            "[nltk_data]    | Downloading package averaged_perceptron_tagger_ru to\n",
            "[nltk_data]    |     /root/nltk_data...\n",
            "[nltk_data]    |   Unzipping\n",
            "[nltk_data]    |       taggers/averaged_perceptron_tagger_ru.zip.\n",
            "[nltk_data]    | Downloading package basque_grammars to\n",
            "[nltk_data]    |     /root/nltk_data...\n",
            "[nltk_data]    |   Unzipping grammars/basque_grammars.zip.\n",
            "[nltk_data]    | Downloading package bcp47 to /root/nltk_data...\n",
            "[nltk_data]    | Downloading package biocreative_ppi to\n",
            "[nltk_data]    |     /root/nltk_data...\n",
            "[nltk_data]    |   Unzipping corpora/biocreative_ppi.zip.\n",
            "[nltk_data]    | Downloading package bllip_wsj_no_aux to\n",
            "[nltk_data]    |     /root/nltk_data...\n",
            "[nltk_data]    |   Unzipping models/bllip_wsj_no_aux.zip.\n",
            "[nltk_data]    | Downloading package book_grammars to\n",
            "[nltk_data]    |     /root/nltk_data...\n",
            "[nltk_data]    |   Unzipping grammars/book_grammars.zip.\n",
            "[nltk_data]    | Downloading package brown to /root/nltk_data...\n",
            "[nltk_data]    |   Unzipping corpora/brown.zip.\n",
            "[nltk_data]    | Downloading package brown_tei to /root/nltk_data...\n",
            "[nltk_data]    |   Unzipping corpora/brown_tei.zip.\n",
            "[nltk_data]    | Downloading package cess_cat to /root/nltk_data...\n",
            "[nltk_data]    |   Unzipping corpora/cess_cat.zip.\n",
            "[nltk_data]    | Downloading package cess_esp to /root/nltk_data...\n",
            "[nltk_data]    |   Unzipping corpora/cess_esp.zip.\n",
            "[nltk_data]    | Downloading package chat80 to /root/nltk_data...\n",
            "[nltk_data]    |   Unzipping corpora/chat80.zip.\n",
            "[nltk_data]    | Downloading package city_database to\n",
            "[nltk_data]    |     /root/nltk_data...\n",
            "[nltk_data]    |   Unzipping corpora/city_database.zip.\n",
            "[nltk_data]    | Downloading package cmudict to /root/nltk_data...\n",
            "[nltk_data]    |   Unzipping corpora/cmudict.zip.\n",
            "[nltk_data]    | Downloading package comparative_sentences to\n",
            "[nltk_data]    |     /root/nltk_data...\n",
            "[nltk_data]    |   Unzipping corpora/comparative_sentences.zip.\n",
            "[nltk_data]    | Downloading package comtrans to /root/nltk_data...\n",
            "[nltk_data]    | Downloading package conll2000 to /root/nltk_data...\n",
            "[nltk_data]    |   Unzipping corpora/conll2000.zip.\n",
            "[nltk_data]    | Downloading package conll2002 to /root/nltk_data...\n",
            "[nltk_data]    |   Unzipping corpora/conll2002.zip.\n",
            "[nltk_data]    | Downloading package conll2007 to /root/nltk_data...\n",
            "[nltk_data]    | Downloading package crubadan to /root/nltk_data...\n",
            "[nltk_data]    |   Unzipping corpora/crubadan.zip.\n",
            "[nltk_data]    | Downloading package dependency_treebank to\n",
            "[nltk_data]    |     /root/nltk_data...\n",
            "[nltk_data]    |   Unzipping corpora/dependency_treebank.zip.\n",
            "[nltk_data]    | Downloading package dolch to /root/nltk_data...\n",
            "[nltk_data]    |   Unzipping corpora/dolch.zip.\n",
            "[nltk_data]    | Downloading package europarl_raw to\n",
            "[nltk_data]    |     /root/nltk_data...\n",
            "[nltk_data]    |   Unzipping corpora/europarl_raw.zip.\n",
            "[nltk_data]    | Downloading package extended_omw to\n",
            "[nltk_data]    |     /root/nltk_data...\n",
            "[nltk_data]    | Downloading package floresta to /root/nltk_data...\n",
            "[nltk_data]    |   Unzipping corpora/floresta.zip.\n",
            "[nltk_data]    | Downloading package framenet_v15 to\n",
            "[nltk_data]    |     /root/nltk_data...\n",
            "[nltk_data]    |   Unzipping corpora/framenet_v15.zip.\n",
            "[nltk_data]    | Downloading package framenet_v17 to\n",
            "[nltk_data]    |     /root/nltk_data...\n",
            "[nltk_data]    |   Unzipping corpora/framenet_v17.zip.\n",
            "[nltk_data]    | Downloading package gazetteers to /root/nltk_data...\n",
            "[nltk_data]    |   Unzipping corpora/gazetteers.zip.\n",
            "[nltk_data]    | Downloading package genesis to /root/nltk_data...\n",
            "[nltk_data]    |   Unzipping corpora/genesis.zip.\n",
            "[nltk_data]    | Downloading package gutenberg to /root/nltk_data...\n",
            "[nltk_data]    |   Unzipping corpora/gutenberg.zip.\n",
            "[nltk_data]    | Downloading package ieer to /root/nltk_data...\n",
            "[nltk_data]    |   Unzipping corpora/ieer.zip.\n",
            "[nltk_data]    | Downloading package inaugural to /root/nltk_data...\n",
            "[nltk_data]    |   Unzipping corpora/inaugural.zip.\n",
            "[nltk_data]    | Downloading package indian to /root/nltk_data...\n",
            "[nltk_data]    |   Unzipping corpora/indian.zip.\n",
            "[nltk_data]    | Downloading package jeita to /root/nltk_data...\n",
            "[nltk_data]    | Downloading package kimmo to /root/nltk_data...\n",
            "[nltk_data]    |   Unzipping corpora/kimmo.zip.\n",
            "[nltk_data]    | Downloading package knbc to /root/nltk_data...\n",
            "[nltk_data]    | Downloading package large_grammars to\n",
            "[nltk_data]    |     /root/nltk_data...\n",
            "[nltk_data]    |   Unzipping grammars/large_grammars.zip.\n",
            "[nltk_data]    | Downloading package lin_thesaurus to\n",
            "[nltk_data]    |     /root/nltk_data...\n",
            "[nltk_data]    |   Unzipping corpora/lin_thesaurus.zip.\n",
            "[nltk_data]    | Downloading package mac_morpho to /root/nltk_data...\n",
            "[nltk_data]    |   Unzipping corpora/mac_morpho.zip.\n",
            "[nltk_data]    | Downloading package machado to /root/nltk_data...\n",
            "[nltk_data]    | Downloading package masc_tagged to /root/nltk_data...\n",
            "[nltk_data]    | Downloading package maxent_ne_chunker to\n",
            "[nltk_data]    |     /root/nltk_data...\n",
            "[nltk_data]    |   Unzipping chunkers/maxent_ne_chunker.zip.\n",
            "[nltk_data]    | Downloading package maxent_treebank_pos_tagger to\n",
            "[nltk_data]    |     /root/nltk_data...\n",
            "[nltk_data]    |   Unzipping taggers/maxent_treebank_pos_tagger.zip.\n",
            "[nltk_data]    | Downloading package moses_sample to\n",
            "[nltk_data]    |     /root/nltk_data...\n",
            "[nltk_data]    |   Unzipping models/moses_sample.zip.\n",
            "[nltk_data]    | Downloading package movie_reviews to\n",
            "[nltk_data]    |     /root/nltk_data...\n",
            "[nltk_data]    |   Unzipping corpora/movie_reviews.zip.\n",
            "[nltk_data]    | Downloading package mte_teip5 to /root/nltk_data...\n",
            "[nltk_data]    |   Unzipping corpora/mte_teip5.zip.\n",
            "[nltk_data]    | Downloading package mwa_ppdb to /root/nltk_data...\n",
            "[nltk_data]    |   Unzipping misc/mwa_ppdb.zip.\n",
            "[nltk_data]    | Downloading package names to /root/nltk_data...\n",
            "[nltk_data]    |   Unzipping corpora/names.zip.\n",
            "[nltk_data]    | Downloading package nombank.1.0 to /root/nltk_data...\n",
            "[nltk_data]    | Downloading package nonbreaking_prefixes to\n",
            "[nltk_data]    |     /root/nltk_data...\n",
            "[nltk_data]    |   Unzipping corpora/nonbreaking_prefixes.zip.\n",
            "[nltk_data]    | Downloading package nps_chat to /root/nltk_data...\n",
            "[nltk_data]    |   Unzipping corpora/nps_chat.zip.\n",
            "[nltk_data]    | Downloading package omw to /root/nltk_data...\n",
            "[nltk_data]    | Downloading package omw-1.4 to /root/nltk_data...\n",
            "[nltk_data]    | Downloading package opinion_lexicon to\n",
            "[nltk_data]    |     /root/nltk_data...\n",
            "[nltk_data]    |   Unzipping corpora/opinion_lexicon.zip.\n",
            "[nltk_data]    | Downloading package panlex_swadesh to\n",
            "[nltk_data]    |     /root/nltk_data...\n",
            "[nltk_data]    | Downloading package paradigms to /root/nltk_data...\n",
            "[nltk_data]    |   Unzipping corpora/paradigms.zip.\n",
            "[nltk_data]    | Downloading package pe08 to /root/nltk_data...\n",
            "[nltk_data]    |   Unzipping corpora/pe08.zip.\n",
            "[nltk_data]    | Downloading package perluniprops to\n",
            "[nltk_data]    |     /root/nltk_data...\n",
            "[nltk_data]    |   Unzipping misc/perluniprops.zip.\n",
            "[nltk_data]    | Downloading package pil to /root/nltk_data...\n",
            "[nltk_data]    |   Unzipping corpora/pil.zip.\n",
            "[nltk_data]    | Downloading package pl196x to /root/nltk_data...\n",
            "[nltk_data]    |   Unzipping corpora/pl196x.zip.\n",
            "[nltk_data]    | Downloading package porter_test to /root/nltk_data...\n",
            "[nltk_data]    |   Unzipping stemmers/porter_test.zip.\n",
            "[nltk_data]    | Downloading package ppattach to /root/nltk_data...\n",
            "[nltk_data]    |   Unzipping corpora/ppattach.zip.\n",
            "[nltk_data]    | Downloading package problem_reports to\n",
            "[nltk_data]    |     /root/nltk_data...\n",
            "[nltk_data]    |   Unzipping corpora/problem_reports.zip.\n",
            "[nltk_data]    | Downloading package product_reviews_1 to\n",
            "[nltk_data]    |     /root/nltk_data...\n",
            "[nltk_data]    |   Unzipping corpora/product_reviews_1.zip.\n",
            "[nltk_data]    | Downloading package product_reviews_2 to\n",
            "[nltk_data]    |     /root/nltk_data...\n",
            "[nltk_data]    |   Unzipping corpora/product_reviews_2.zip.\n",
            "[nltk_data]    | Downloading package propbank to /root/nltk_data...\n",
            "[nltk_data]    | Downloading package pros_cons to /root/nltk_data...\n",
            "[nltk_data]    |   Unzipping corpora/pros_cons.zip.\n",
            "[nltk_data]    | Downloading package ptb to /root/nltk_data...\n",
            "[nltk_data]    |   Unzipping corpora/ptb.zip.\n",
            "[nltk_data]    | Downloading package punkt to /root/nltk_data...\n",
            "[nltk_data]    |   Unzipping tokenizers/punkt.zip.\n",
            "[nltk_data]    | Downloading package qc to /root/nltk_data...\n",
            "[nltk_data]    |   Unzipping corpora/qc.zip.\n",
            "[nltk_data]    | Downloading package reuters to /root/nltk_data...\n",
            "[nltk_data]    | Downloading package rslp to /root/nltk_data...\n",
            "[nltk_data]    |   Unzipping stemmers/rslp.zip.\n",
            "[nltk_data]    | Downloading package rte to /root/nltk_data...\n",
            "[nltk_data]    |   Unzipping corpora/rte.zip.\n",
            "[nltk_data]    | Downloading package sample_grammars to\n",
            "[nltk_data]    |     /root/nltk_data...\n",
            "[nltk_data]    |   Unzipping grammars/sample_grammars.zip.\n",
            "[nltk_data]    | Downloading package semcor to /root/nltk_data...\n",
            "[nltk_data]    | Downloading package senseval to /root/nltk_data...\n",
            "[nltk_data]    |   Unzipping corpora/senseval.zip.\n",
            "[nltk_data]    | Downloading package sentence_polarity to\n",
            "[nltk_data]    |     /root/nltk_data...\n",
            "[nltk_data]    |   Unzipping corpora/sentence_polarity.zip.\n",
            "[nltk_data]    | Downloading package sentiwordnet to\n",
            "[nltk_data]    |     /root/nltk_data...\n",
            "[nltk_data]    |   Unzipping corpora/sentiwordnet.zip.\n",
            "[nltk_data]    | Downloading package shakespeare to /root/nltk_data...\n",
            "[nltk_data]    |   Unzipping corpora/shakespeare.zip.\n",
            "[nltk_data]    | Downloading package sinica_treebank to\n",
            "[nltk_data]    |     /root/nltk_data...\n",
            "[nltk_data]    |   Unzipping corpora/sinica_treebank.zip.\n",
            "[nltk_data]    | Downloading package smultron to /root/nltk_data...\n",
            "[nltk_data]    |   Unzipping corpora/smultron.zip.\n",
            "[nltk_data]    | Downloading package snowball_data to\n",
            "[nltk_data]    |     /root/nltk_data...\n",
            "[nltk_data]    | Downloading package spanish_grammars to\n",
            "[nltk_data]    |     /root/nltk_data...\n",
            "[nltk_data]    |   Unzipping grammars/spanish_grammars.zip.\n",
            "[nltk_data]    | Downloading package state_union to /root/nltk_data...\n",
            "[nltk_data]    |   Unzipping corpora/state_union.zip.\n",
            "[nltk_data]    | Downloading package stopwords to /root/nltk_data...\n",
            "[nltk_data]    |   Unzipping corpora/stopwords.zip.\n",
            "[nltk_data]    | Downloading package subjectivity to\n",
            "[nltk_data]    |     /root/nltk_data...\n",
            "[nltk_data]    |   Unzipping corpora/subjectivity.zip.\n",
            "[nltk_data]    | Downloading package swadesh to /root/nltk_data...\n",
            "[nltk_data]    |   Unzipping corpora/swadesh.zip.\n",
            "[nltk_data]    | Downloading package switchboard to /root/nltk_data...\n",
            "[nltk_data]    |   Unzipping corpora/switchboard.zip.\n",
            "[nltk_data]    | Downloading package tagsets to /root/nltk_data...\n",
            "[nltk_data]    |   Unzipping help/tagsets.zip.\n",
            "[nltk_data]    | Downloading package timit to /root/nltk_data...\n",
            "[nltk_data]    |   Unzipping corpora/timit.zip.\n",
            "[nltk_data]    | Downloading package toolbox to /root/nltk_data...\n",
            "[nltk_data]    |   Unzipping corpora/toolbox.zip.\n",
            "[nltk_data]    | Downloading package treebank to /root/nltk_data...\n",
            "[nltk_data]    |   Unzipping corpora/treebank.zip.\n",
            "[nltk_data]    | Downloading package twitter_samples to\n",
            "[nltk_data]    |     /root/nltk_data...\n",
            "[nltk_data]    |   Unzipping corpora/twitter_samples.zip.\n",
            "[nltk_data]    | Downloading package udhr to /root/nltk_data...\n",
            "[nltk_data]    |   Unzipping corpora/udhr.zip.\n",
            "[nltk_data]    | Downloading package udhr2 to /root/nltk_data...\n",
            "[nltk_data]    |   Unzipping corpora/udhr2.zip.\n",
            "[nltk_data]    | Downloading package unicode_samples to\n",
            "[nltk_data]    |     /root/nltk_data...\n",
            "[nltk_data]    |   Unzipping corpora/unicode_samples.zip.\n",
            "[nltk_data]    | Downloading package universal_tagset to\n",
            "[nltk_data]    |     /root/nltk_data...\n",
            "[nltk_data]    |   Unzipping taggers/universal_tagset.zip.\n",
            "[nltk_data]    | Downloading package universal_treebanks_v20 to\n",
            "[nltk_data]    |     /root/nltk_data...\n",
            "[nltk_data]    | Downloading package vader_lexicon to\n",
            "[nltk_data]    |     /root/nltk_data...\n",
            "[nltk_data]    | Downloading package verbnet to /root/nltk_data...\n",
            "[nltk_data]    |   Unzipping corpora/verbnet.zip.\n",
            "[nltk_data]    | Downloading package verbnet3 to /root/nltk_data...\n",
            "[nltk_data]    |   Unzipping corpora/verbnet3.zip.\n",
            "[nltk_data]    | Downloading package webtext to /root/nltk_data...\n",
            "[nltk_data]    |   Unzipping corpora/webtext.zip.\n",
            "[nltk_data]    | Downloading package wmt15_eval to /root/nltk_data...\n",
            "[nltk_data]    |   Unzipping models/wmt15_eval.zip.\n",
            "[nltk_data]    | Downloading package word2vec_sample to\n",
            "[nltk_data]    |     /root/nltk_data...\n",
            "[nltk_data]    |   Unzipping models/word2vec_sample.zip.\n",
            "[nltk_data]    | Downloading package wordnet to /root/nltk_data...\n",
            "[nltk_data]    | Downloading package wordnet2021 to /root/nltk_data...\n",
            "[nltk_data]    | Downloading package wordnet2022 to /root/nltk_data...\n",
            "[nltk_data]    |   Unzipping corpora/wordnet2022.zip.\n",
            "[nltk_data]    | Downloading package wordnet31 to /root/nltk_data...\n",
            "[nltk_data]    | Downloading package wordnet_ic to /root/nltk_data...\n",
            "[nltk_data]    |   Unzipping corpora/wordnet_ic.zip.\n",
            "[nltk_data]    | Downloading package words to /root/nltk_data...\n",
            "[nltk_data]    |   Unzipping corpora/words.zip.\n",
            "[nltk_data]    | Downloading package ycoe to /root/nltk_data...\n",
            "[nltk_data]    |   Unzipping corpora/ycoe.zip.\n",
            "[nltk_data]    | \n",
            "[nltk_data]  Done downloading collection all\n"
          ]
        },
        {
          "output_type": "execute_result",
          "data": {
            "text/plain": [
              "True"
            ]
          },
          "metadata": {},
          "execution_count": 10
        }
      ],
      "source": [
        "import nltk\n",
        "nltk.download('all')"
      ]
    },
    {
      "cell_type": "code",
      "execution_count": 11,
      "metadata": {
        "id": "3r1X4zAA_Qm_"
      },
      "outputs": [],
      "source": [
        "## get all symptoms which do not have a synset\n",
        "ohne_syns=[]\n",
        "mit_syns=[]\n",
        "for sym in all_symp:\n",
        "    if not wn.synsets(sym) :\n",
        "        ohne_syns.append(sym)\n",
        "    else:\n",
        "        mit_syns.append(sym)"
      ]
    },
    {
      "cell_type": "code",
      "execution_count": 12,
      "metadata": {
        "colab": {
          "base_uri": "https://localhost:8080/"
        },
        "id": "qveKdovUUwgr",
        "outputId": "a3406b71-eeaf-44f0-dfe4-022fb424e3ec"
      },
      "outputs": [
        {
          "output_type": "execute_result",
          "data": {
            "text/plain": [
              "33"
            ]
          },
          "metadata": {},
          "execution_count": 12
        }
      ],
      "source": [
        "len(mit_syns)"
      ]
    },
    {
      "cell_type": "code",
      "execution_count": 13,
      "metadata": {
        "colab": {
          "base_uri": "https://localhost:8080/"
        },
        "id": "ZvM-eYaSUzPH",
        "outputId": "98ac6603-f51d-4691-d0e4-2361e6d3ca3c"
      },
      "outputs": [
        {
          "output_type": "execute_result",
          "data": {
            "text/plain": [
              "99"
            ]
          },
          "metadata": {},
          "execution_count": 13
        }
      ],
      "source": [
        "len(ohne_syns)"
      ]
    },
    {
      "cell_type": "code",
      "execution_count": 14,
      "metadata": {
        "id": "UOZiY85XU3Kh"
      },
      "outputs": [],
      "source": [
        "from spacy.lang.en.stop_words import STOP_WORDS\n",
        "import spacy\n",
        "nlp = spacy.load('en_core_web_sm')"
      ]
    },
    {
      "cell_type": "code",
      "execution_count": 15,
      "metadata": {
        "id": "CUmV34hMU3aS"
      },
      "outputs": [],
      "source": [
        "def preprocess(doc):\n",
        "    nlp_doc=nlp(doc)\n",
        "    d=[]\n",
        "    for token in nlp_doc:\n",
        "        if(not token.text.lower()  in STOP_WORDS and  token.text.isalpha()):\n",
        "            d.append(token.lemma_.lower() )\n",
        "    return ' '.join(d)"
      ]
    },
    {
      "cell_type": "code",
      "execution_count": 16,
      "metadata": {
        "id": "-KTvAnSsU3d9"
      },
      "outputs": [],
      "source": [
        "def preprocess_sym(doc):\n",
        "    nlp_doc=nlp(doc)\n",
        "    d=[]\n",
        "    for token in nlp_doc:\n",
        "        if(not token.text.lower()  in STOP_WORDS and  token.text.isalpha()):\n",
        "            d.append(token.lemma_.lower() )\n",
        "    return ' '.join(d)"
      ]
    },
    {
      "cell_type": "code",
      "execution_count": 17,
      "metadata": {
        "colab": {
          "base_uri": "https://localhost:8080/",
          "height": 36
        },
        "id": "uK9uNfuYU3hq",
        "outputId": "759a7a43-6a4d-421f-be68-456bd1e40d63"
      },
      "outputs": [
        {
          "output_type": "execute_result",
          "data": {
            "text/plain": [
              "'skin peel'"
            ],
            "application/vnd.google.colaboratory.intrinsic+json": {
              "type": "string"
            }
          },
          "metadata": {},
          "execution_count": 17
        }
      ],
      "source": [
        "preprocess(\"skin peeling\")"
      ]
    },
    {
      "cell_type": "code",
      "execution_count": 18,
      "metadata": {
        "id": "mqz5P0h1U3kt"
      },
      "outputs": [],
      "source": [
        "all_symp_pr=[preprocess_sym(sym) for sym in all_symp]"
      ]
    },
    {
      "cell_type": "code",
      "execution_count": 19,
      "metadata": {
        "id": "rYMbS-BEU3n1"
      },
      "outputs": [],
      "source": [
        "#associe chaque symp pretraite au non de sa colonne originale\n",
        "col_dict = dict(zip(all_symp_pr, all_symp_col))"
      ]
    },
    {
      "cell_type": "code",
      "execution_count": 20,
      "metadata": {
        "id": "cQBx28XMU3rP"
      },
      "outputs": [],
      "source": [
        "def jaccard_set(str1, str2):\n",
        "    list1=str1.split(' ')\n",
        "    list2=str2.split(' ')\n",
        "    intersection = len(list(set(list1).intersection(list2)))\n",
        "    union = (len(list1) + len(list2)) - intersection\n",
        "    return float(intersection) / union"
      ]
    },
    {
      "cell_type": "code",
      "execution_count": 21,
      "metadata": {
        "id": "VZD7Z0RgVIrf"
      },
      "outputs": [],
      "source": [
        "#similarite syn avec ts le corpus\n",
        "def syntactic_similarity(symp_t, corpus):\n",
        "    most_sim = []\n",
        "    poss_sym = []\n",
        "    for symp in corpus:\n",
        "        d = jaccard_set(symp_t, symp)\n",
        "        most_sim.append(d)\n",
        "    order = np.argsort(most_sim)[::-1].tolist()\n",
        "    for i in order:\n",
        "        if DoesExist(symp_t):\n",
        "            return 1, [corpus[i]]\n",
        "        if corpus[i] not in poss_sym and most_sim[i] != 0:\n",
        "            poss_sym.append(corpus[i])\n",
        "    if len(poss_sym):\n",
        "        return 1, poss_sym\n",
        "    else:\n",
        "        return 0, None"
      ]
    },
    {
      "cell_type": "code",
      "execution_count": 22,
      "metadata": {
        "id": "Cyp3RrbQVI27"
      },
      "outputs": [],
      "source": [
        "import itertools\n",
        "#Returns all the subsets of this set. This is a generator.\n",
        "def powerset(seq):\n",
        "    if len(seq) <= 1:\n",
        "        yield seq\n",
        "        yield []\n",
        "    else:\n",
        "        for item in powerset(seq[1:]):\n",
        "            yield [seq[0]]+item\n",
        "            yield item"
      ]
    },
    {
      "cell_type": "code",
      "execution_count": 23,
      "metadata": {
        "id": "64wkkb6MVI6m"
      },
      "outputs": [],
      "source": [
        "#Sort list based on length\n",
        "def sort(a):\n",
        "    for i in range(len(a)):\n",
        "        for j in range(i+1,len(a)):\n",
        "            if len(a[j])>len(a[i]):\n",
        "                a[i],a[j]=a[j],a[i]\n",
        "    a.pop()\n",
        "    return a"
      ]
    },
    {
      "cell_type": "code",
      "execution_count": 24,
      "metadata": {
        "id": "q0EYG8oqVI9o"
      },
      "outputs": [],
      "source": [
        "# find all permutations of a list\n",
        "def permutations(s):\n",
        "    permutations = list(itertools.permutations(s))\n",
        "    return([' '.join(permutation) for permutation in permutations])"
      ]
    },
    {
      "cell_type": "code",
      "execution_count": 25,
      "metadata": {
        "id": "v_cYDBwgVJAH"
      },
      "outputs": [],
      "source": [
        "def DoesExist(txt):\n",
        "    txt=txt.split(' ')\n",
        "    combinations = [x for x in powerset(txt)]\n",
        "    sort(combinations)\n",
        "    for comb in combinations :\n",
        "        #print(permutations(comb))\n",
        "        for sym in permutations(comb):\n",
        "            if sym in all_symp_pr:\n",
        "                #print(sym)\n",
        "                return sym\n",
        "    return False\n"
      ]
    },
    {
      "cell_type": "code",
      "execution_count": 26,
      "metadata": {
        "colab": {
          "base_uri": "https://localhost:8080/"
        },
        "id": "7P2xhFO9VJC3",
        "outputId": "e88798f3-f120-4311-9cfb-9b27b63a3278"
      },
      "outputs": [
        {
          "output_type": "execute_result",
          "data": {
            "text/plain": [
              "False"
            ]
          },
          "metadata": {},
          "execution_count": 26
        }
      ],
      "source": [
        "DoesExist('worried')"
      ]
    },
    {
      "cell_type": "code",
      "execution_count": 27,
      "metadata": {
        "colab": {
          "base_uri": "https://localhost:8080/",
          "height": 36
        },
        "id": "PbMn8RpyVJFY",
        "outputId": "fc7fb279-aba0-41b9-fd58-f577b8529b4b"
      },
      "outputs": [
        {
          "output_type": "execute_result",
          "data": {
            "text/plain": [
              "'worried'"
            ],
            "application/vnd.google.colaboratory.intrinsic+json": {
              "type": "string"
            }
          },
          "metadata": {},
          "execution_count": 27
        }
      ],
      "source": [
        "preprocess('really worried')"
      ]
    },
    {
      "cell_type": "code",
      "execution_count": 28,
      "metadata": {
        "colab": {
          "base_uri": "https://localhost:8080/"
        },
        "id": "diDMldm0VJID",
        "outputId": "0ccc2b23-fead-4336-cece-ecf21f308a16"
      },
      "outputs": [
        {
          "output_type": "execute_result",
          "data": {
            "text/plain": [
              "(0, None)"
            ]
          },
          "metadata": {},
          "execution_count": 28
        }
      ],
      "source": [
        "syntactic_similarity(preprocess('nervous') ,all_symp_pr)"
      ]
    },
    {
      "cell_type": "code",
      "execution_count": 29,
      "metadata": {
        "id": "uihv-Kq9VJK_"
      },
      "outputs": [],
      "source": [
        "def check_pattern(inp,dis_list):\n",
        "    import re\n",
        "    pred_list=[]\n",
        "    ptr=0\n",
        "    patt = \"^\" + inp + \"$\"\n",
        "    regexp = re.compile(inp)\n",
        "    for item in dis_list:\n",
        "        if regexp.search(item):\n",
        "            pred_list.append(item)\n",
        "    if(len(pred_list)>0):\n",
        "        return 1,pred_list\n",
        "    else:\n",
        "        return ptr,None"
      ]
    },
    {
      "cell_type": "code",
      "execution_count": 30,
      "metadata": {
        "colab": {
          "base_uri": "https://localhost:8080/"
        },
        "id": "RqR2SpfCVJNb",
        "outputId": "aeaf71ed-3275-4c15-afb8-045c0ebbb1c6"
      },
      "outputs": [
        {
          "output_type": "execute_result",
          "data": {
            "text/plain": [
              "(1, ['brittle nail', 'small dent nail', 'inflammatory nail'])"
            ]
          },
          "metadata": {},
          "execution_count": 30
        }
      ],
      "source": [
        "check_pattern('nail',all_symp_pr)"
      ]
    },
    {
      "cell_type": "code",
      "execution_count": 31,
      "metadata": {
        "id": "H8xIFwhxVJQd"
      },
      "outputs": [],
      "source": [
        "from nltk.wsd import lesk\n",
        "from nltk.tokenize import word_tokenize\n",
        "def WSD(word, context):\n",
        "    sens=lesk(context, word)\n",
        "    return sens"
      ]
    },
    {
      "cell_type": "code",
      "execution_count": 32,
      "metadata": {
        "id": "pFcrpjOFVJTi"
      },
      "outputs": [],
      "source": [
        "def semanticD(doc1,doc2):\n",
        "    doc1_p=preprocess(doc1).split(' ')\n",
        "    doc2_p=preprocess_sym(doc2).split(' ')\n",
        "    score=0\n",
        "    for tock1 in doc1_p:\n",
        "        for tock2 in doc2_p:\n",
        "            syn1 = WSD(tock1,doc1)\n",
        "            syn2 = WSD(tock2,doc2)\n",
        "            #syn1=wn.synset(t)\n",
        "            if syn1 is not None and syn2 is not None :\n",
        "                x=syn1.wup_similarity(syn2)\n",
        "                if x is not None and x>0.1:\n",
        "                    score+=x\n",
        "    return score/(len(doc1_p)*len(doc2_p))"
      ]
    },
    {
      "cell_type": "code",
      "execution_count": 33,
      "metadata": {
        "colab": {
          "base_uri": "https://localhost:8080/"
        },
        "id": "7z_Q0Tx2VJV5",
        "outputId": "b09446fe-5a59-45b9-cd76-4fb9d5d4c3e8"
      },
      "outputs": [
        {
          "output_type": "execute_result",
          "data": {
            "text/plain": [
              "0.2"
            ]
          },
          "metadata": {},
          "execution_count": 33
        }
      ],
      "source": [
        "semanticD('anxiety','nervous')"
      ]
    },
    {
      "cell_type": "code",
      "execution_count": 34,
      "metadata": {
        "colab": {
          "base_uri": "https://localhost:8080/",
          "height": 36
        },
        "id": "7AibUutMVJYj",
        "outputId": "59107f61-2bed-425d-abf5-46be5ae61e93"
      },
      "outputs": [
        {
          "output_type": "execute_result",
          "data": {
            "text/plain": [
              "'(psychiatry) a relatively permanent state of worry and nervousness occurring in a variety of mental disorders, usually accompanied by compulsive behavior or attacks of panic'"
            ],
            "application/vnd.google.colaboratory.intrinsic+json": {
              "type": "string"
            }
          },
          "metadata": {},
          "execution_count": 34
        }
      ],
      "source": [
        "syna=wn.synsets('anxiety')\n",
        "syna[0].definition()"
      ]
    },
    {
      "cell_type": "code",
      "execution_count": 35,
      "metadata": {
        "colab": {
          "base_uri": "https://localhost:8080/",
          "height": 36
        },
        "id": "jpKPL12oVJbJ",
        "outputId": "4b742fba-85d0-4ff4-a838-3a9ab5fb5932"
      },
      "outputs": [
        {
          "output_type": "execute_result",
          "data": {
            "text/plain": [
              "'easily agitated'"
            ],
            "application/vnd.google.colaboratory.intrinsic+json": {
              "type": "string"
            }
          },
          "metadata": {},
          "execution_count": 35
        }
      ],
      "source": [
        "synn=wn.synsets('nervous')\n",
        "synn[0].definition()"
      ]
    },
    {
      "cell_type": "code",
      "execution_count": 36,
      "metadata": {
        "colab": {
          "base_uri": "https://localhost:8080/"
        },
        "id": "d5YBkzt1VJde",
        "outputId": "5badda8e-076a-47fa-d184-c20ded6c7972"
      },
      "outputs": [
        {
          "output_type": "execute_result",
          "data": {
            "text/plain": [
              "0.2"
            ]
          },
          "metadata": {},
          "execution_count": 36
        }
      ],
      "source": [
        "synn[0].wup_similarity(syna[0])"
      ]
    },
    {
      "cell_type": "code",
      "execution_count": 37,
      "metadata": {
        "colab": {
          "base_uri": "https://localhost:8080/",
          "height": 112
        },
        "id": "Ob7qGTfeVJgc",
        "outputId": "89d023d4-a40a-44a9-a216-53a160cbf283"
      },
      "outputs": [
        {
          "output_type": "execute_result",
          "data": {
            "text/plain": [
              "            0         1         2         3         4         5         6   \\\n",
              "path  0.083333  0.083333  0.083333  0.083333  0.083333  0.333333  0.333333   \n",
              "wup   0.153846  0.153846  0.153846  0.153846  0.153846  0.500000  0.500000   \n",
              "\n",
              "            7         8         9         10        11        12        13  \\\n",
              "path  0.333333  0.333333  0.333333  0.333333  0.333333  0.333333  0.333333   \n",
              "wup   0.500000  0.500000  0.500000  0.500000  0.500000  0.500000  0.500000   \n",
              "\n",
              "            14        15        16        17        18        19  \n",
              "path  0.333333  0.333333  0.333333  0.333333  0.333333  0.333333  \n",
              "wup   0.500000  0.500000  0.500000  0.500000  0.500000  0.500000  "
            ],
            "text/html": [
              "\n",
              "  <div id=\"df-f748c1ca-d867-4bf3-8181-6a8ae3dac37c\" class=\"colab-df-container\">\n",
              "    <div>\n",
              "<style scoped>\n",
              "    .dataframe tbody tr th:only-of-type {\n",
              "        vertical-align: middle;\n",
              "    }\n",
              "\n",
              "    .dataframe tbody tr th {\n",
              "        vertical-align: top;\n",
              "    }\n",
              "\n",
              "    .dataframe thead th {\n",
              "        text-align: right;\n",
              "    }\n",
              "</style>\n",
              "<table border=\"1\" class=\"dataframe\">\n",
              "  <thead>\n",
              "    <tr style=\"text-align: right;\">\n",
              "      <th></th>\n",
              "      <th>0</th>\n",
              "      <th>1</th>\n",
              "      <th>2</th>\n",
              "      <th>3</th>\n",
              "      <th>4</th>\n",
              "      <th>5</th>\n",
              "      <th>6</th>\n",
              "      <th>7</th>\n",
              "      <th>8</th>\n",
              "      <th>9</th>\n",
              "      <th>10</th>\n",
              "      <th>11</th>\n",
              "      <th>12</th>\n",
              "      <th>13</th>\n",
              "      <th>14</th>\n",
              "      <th>15</th>\n",
              "      <th>16</th>\n",
              "      <th>17</th>\n",
              "      <th>18</th>\n",
              "      <th>19</th>\n",
              "    </tr>\n",
              "  </thead>\n",
              "  <tbody>\n",
              "    <tr>\n",
              "      <th>path</th>\n",
              "      <td>0.083333</td>\n",
              "      <td>0.083333</td>\n",
              "      <td>0.083333</td>\n",
              "      <td>0.083333</td>\n",
              "      <td>0.083333</td>\n",
              "      <td>0.333333</td>\n",
              "      <td>0.333333</td>\n",
              "      <td>0.333333</td>\n",
              "      <td>0.333333</td>\n",
              "      <td>0.333333</td>\n",
              "      <td>0.333333</td>\n",
              "      <td>0.333333</td>\n",
              "      <td>0.333333</td>\n",
              "      <td>0.333333</td>\n",
              "      <td>0.333333</td>\n",
              "      <td>0.333333</td>\n",
              "      <td>0.333333</td>\n",
              "      <td>0.333333</td>\n",
              "      <td>0.333333</td>\n",
              "      <td>0.333333</td>\n",
              "    </tr>\n",
              "    <tr>\n",
              "      <th>wup</th>\n",
              "      <td>0.153846</td>\n",
              "      <td>0.153846</td>\n",
              "      <td>0.153846</td>\n",
              "      <td>0.153846</td>\n",
              "      <td>0.153846</td>\n",
              "      <td>0.500000</td>\n",
              "      <td>0.500000</td>\n",
              "      <td>0.500000</td>\n",
              "      <td>0.500000</td>\n",
              "      <td>0.500000</td>\n",
              "      <td>0.500000</td>\n",
              "      <td>0.500000</td>\n",
              "      <td>0.500000</td>\n",
              "      <td>0.500000</td>\n",
              "      <td>0.500000</td>\n",
              "      <td>0.500000</td>\n",
              "      <td>0.500000</td>\n",
              "      <td>0.500000</td>\n",
              "      <td>0.500000</td>\n",
              "      <td>0.500000</td>\n",
              "    </tr>\n",
              "  </tbody>\n",
              "</table>\n",
              "</div>\n",
              "    <div class=\"colab-df-buttons\">\n",
              "\n",
              "  <div class=\"colab-df-container\">\n",
              "    <button class=\"colab-df-convert\" onclick=\"convertToInteractive('df-f748c1ca-d867-4bf3-8181-6a8ae3dac37c')\"\n",
              "            title=\"Convert this dataframe to an interactive table.\"\n",
              "            style=\"display:none;\">\n",
              "\n",
              "  <svg xmlns=\"http://www.w3.org/2000/svg\" height=\"24px\" viewBox=\"0 -960 960 960\">\n",
              "    <path d=\"M120-120v-720h720v720H120Zm60-500h600v-160H180v160Zm220 220h160v-160H400v160Zm0 220h160v-160H400v160ZM180-400h160v-160H180v160Zm440 0h160v-160H620v160ZM180-180h160v-160H180v160Zm440 0h160v-160H620v160Z\"/>\n",
              "  </svg>\n",
              "    </button>\n",
              "\n",
              "  <style>\n",
              "    .colab-df-container {\n",
              "      display:flex;\n",
              "      gap: 12px;\n",
              "    }\n",
              "\n",
              "    .colab-df-convert {\n",
              "      background-color: #E8F0FE;\n",
              "      border: none;\n",
              "      border-radius: 50%;\n",
              "      cursor: pointer;\n",
              "      display: none;\n",
              "      fill: #1967D2;\n",
              "      height: 32px;\n",
              "      padding: 0 0 0 0;\n",
              "      width: 32px;\n",
              "    }\n",
              "\n",
              "    .colab-df-convert:hover {\n",
              "      background-color: #E2EBFA;\n",
              "      box-shadow: 0px 1px 2px rgba(60, 64, 67, 0.3), 0px 1px 3px 1px rgba(60, 64, 67, 0.15);\n",
              "      fill: #174EA6;\n",
              "    }\n",
              "\n",
              "    .colab-df-buttons div {\n",
              "      margin-bottom: 4px;\n",
              "    }\n",
              "\n",
              "    [theme=dark] .colab-df-convert {\n",
              "      background-color: #3B4455;\n",
              "      fill: #D2E3FC;\n",
              "    }\n",
              "\n",
              "    [theme=dark] .colab-df-convert:hover {\n",
              "      background-color: #434B5C;\n",
              "      box-shadow: 0px 1px 3px 1px rgba(0, 0, 0, 0.15);\n",
              "      filter: drop-shadow(0px 1px 2px rgba(0, 0, 0, 0.3));\n",
              "      fill: #FFFFFF;\n",
              "    }\n",
              "  </style>\n",
              "\n",
              "    <script>\n",
              "      const buttonEl =\n",
              "        document.querySelector('#df-f748c1ca-d867-4bf3-8181-6a8ae3dac37c button.colab-df-convert');\n",
              "      buttonEl.style.display =\n",
              "        google.colab.kernel.accessAllowed ? 'block' : 'none';\n",
              "\n",
              "      async function convertToInteractive(key) {\n",
              "        const element = document.querySelector('#df-f748c1ca-d867-4bf3-8181-6a8ae3dac37c');\n",
              "        const dataTable =\n",
              "          await google.colab.kernel.invokeFunction('convertToInteractive',\n",
              "                                                    [key], {});\n",
              "        if (!dataTable) return;\n",
              "\n",
              "        const docLinkHtml = 'Like what you see? Visit the ' +\n",
              "          '<a target=\"_blank\" href=https://colab.research.google.com/notebooks/data_table.ipynb>data table notebook</a>'\n",
              "          + ' to learn more about interactive tables.';\n",
              "        element.innerHTML = '';\n",
              "        dataTable['output_type'] = 'display_data';\n",
              "        await google.colab.output.renderOutput(dataTable, element);\n",
              "        const docLink = document.createElement('div');\n",
              "        docLink.innerHTML = docLinkHtml;\n",
              "        element.appendChild(docLink);\n",
              "      }\n",
              "    </script>\n",
              "  </div>\n",
              "\n",
              "\n",
              "<div id=\"df-0742362e-33fc-4383-b8f8-67b0357f50be\">\n",
              "  <button class=\"colab-df-quickchart\" onclick=\"quickchart('df-0742362e-33fc-4383-b8f8-67b0357f50be')\"\n",
              "            title=\"Suggest charts\"\n",
              "            style=\"display:none;\">\n",
              "\n",
              "<svg xmlns=\"http://www.w3.org/2000/svg\" height=\"24px\"viewBox=\"0 0 24 24\"\n",
              "     width=\"24px\">\n",
              "    <g>\n",
              "        <path d=\"M19 3H5c-1.1 0-2 .9-2 2v14c0 1.1.9 2 2 2h14c1.1 0 2-.9 2-2V5c0-1.1-.9-2-2-2zM9 17H7v-7h2v7zm4 0h-2V7h2v10zm4 0h-2v-4h2v4z\"/>\n",
              "    </g>\n",
              "</svg>\n",
              "  </button>\n",
              "\n",
              "<style>\n",
              "  .colab-df-quickchart {\n",
              "      --bg-color: #E8F0FE;\n",
              "      --fill-color: #1967D2;\n",
              "      --hover-bg-color: #E2EBFA;\n",
              "      --hover-fill-color: #174EA6;\n",
              "      --disabled-fill-color: #AAA;\n",
              "      --disabled-bg-color: #DDD;\n",
              "  }\n",
              "\n",
              "  [theme=dark] .colab-df-quickchart {\n",
              "      --bg-color: #3B4455;\n",
              "      --fill-color: #D2E3FC;\n",
              "      --hover-bg-color: #434B5C;\n",
              "      --hover-fill-color: #FFFFFF;\n",
              "      --disabled-bg-color: #3B4455;\n",
              "      --disabled-fill-color: #666;\n",
              "  }\n",
              "\n",
              "  .colab-df-quickchart {\n",
              "    background-color: var(--bg-color);\n",
              "    border: none;\n",
              "    border-radius: 50%;\n",
              "    cursor: pointer;\n",
              "    display: none;\n",
              "    fill: var(--fill-color);\n",
              "    height: 32px;\n",
              "    padding: 0;\n",
              "    width: 32px;\n",
              "  }\n",
              "\n",
              "  .colab-df-quickchart:hover {\n",
              "    background-color: var(--hover-bg-color);\n",
              "    box-shadow: 0 1px 2px rgba(60, 64, 67, 0.3), 0 1px 3px 1px rgba(60, 64, 67, 0.15);\n",
              "    fill: var(--button-hover-fill-color);\n",
              "  }\n",
              "\n",
              "  .colab-df-quickchart-complete:disabled,\n",
              "  .colab-df-quickchart-complete:disabled:hover {\n",
              "    background-color: var(--disabled-bg-color);\n",
              "    fill: var(--disabled-fill-color);\n",
              "    box-shadow: none;\n",
              "  }\n",
              "\n",
              "  .colab-df-spinner {\n",
              "    border: 2px solid var(--fill-color);\n",
              "    border-color: transparent;\n",
              "    border-bottom-color: var(--fill-color);\n",
              "    animation:\n",
              "      spin 1s steps(1) infinite;\n",
              "  }\n",
              "\n",
              "  @keyframes spin {\n",
              "    0% {\n",
              "      border-color: transparent;\n",
              "      border-bottom-color: var(--fill-color);\n",
              "      border-left-color: var(--fill-color);\n",
              "    }\n",
              "    20% {\n",
              "      border-color: transparent;\n",
              "      border-left-color: var(--fill-color);\n",
              "      border-top-color: var(--fill-color);\n",
              "    }\n",
              "    30% {\n",
              "      border-color: transparent;\n",
              "      border-left-color: var(--fill-color);\n",
              "      border-top-color: var(--fill-color);\n",
              "      border-right-color: var(--fill-color);\n",
              "    }\n",
              "    40% {\n",
              "      border-color: transparent;\n",
              "      border-right-color: var(--fill-color);\n",
              "      border-top-color: var(--fill-color);\n",
              "    }\n",
              "    60% {\n",
              "      border-color: transparent;\n",
              "      border-right-color: var(--fill-color);\n",
              "    }\n",
              "    80% {\n",
              "      border-color: transparent;\n",
              "      border-right-color: var(--fill-color);\n",
              "      border-bottom-color: var(--fill-color);\n",
              "    }\n",
              "    90% {\n",
              "      border-color: transparent;\n",
              "      border-bottom-color: var(--fill-color);\n",
              "    }\n",
              "  }\n",
              "</style>\n",
              "\n",
              "  <script>\n",
              "    async function quickchart(key) {\n",
              "      const quickchartButtonEl =\n",
              "        document.querySelector('#' + key + ' button');\n",
              "      quickchartButtonEl.disabled = true;  // To prevent multiple clicks.\n",
              "      quickchartButtonEl.classList.add('colab-df-spinner');\n",
              "      try {\n",
              "        const charts = await google.colab.kernel.invokeFunction(\n",
              "            'suggestCharts', [key], {});\n",
              "      } catch (error) {\n",
              "        console.error('Error during call to suggestCharts:', error);\n",
              "      }\n",
              "      quickchartButtonEl.classList.remove('colab-df-spinner');\n",
              "      quickchartButtonEl.classList.add('colab-df-quickchart-complete');\n",
              "    }\n",
              "    (() => {\n",
              "      let quickchartButtonEl =\n",
              "        document.querySelector('#df-0742362e-33fc-4383-b8f8-67b0357f50be button');\n",
              "      quickchartButtonEl.style.display =\n",
              "        google.colab.kernel.accessAllowed ? 'block' : 'none';\n",
              "    })();\n",
              "  </script>\n",
              "</div>\n",
              "    </div>\n",
              "  </div>\n"
            ]
          },
          "metadata": {},
          "execution_count": 37
        }
      ],
      "source": [
        "anxiety_synsets = wn.synsets(\"brittle\")\n",
        "nervous_synsets = wn.synsets(\"nervous\")\n",
        "path=[]\n",
        "wup=[]\n",
        "lch=[]\n",
        "\n",
        "\n",
        "for s1 in anxiety_synsets:\n",
        "    for s2 in nervous_synsets:\n",
        "        path.append(s1.path_similarity(s2))\n",
        "        wup.append(s1.wup_similarity(s2))\n",
        "        #lch.append(s1.lch_similarity(s2))\n",
        "\n",
        "\n",
        "pd.DataFrame([path,wup],[\"path\",\"wup\"])"
      ]
    },
    {
      "cell_type": "code",
      "execution_count": 38,
      "metadata": {
        "id": "uyF8UBzgVJjH"
      },
      "outputs": [],
      "source": [
        "#similarite sem avec ts le corpus\n",
        "def semantic_similarity(symp_t,corpus):\n",
        "    max_sim=0\n",
        "    most_sim=None\n",
        "    for symp in corpus:\n",
        "        d=semanticD(symp_t,symp)\n",
        "        if d>max_sim:\n",
        "            most_sim=symp\n",
        "            max_sim=d\n",
        "    return max_sim,most_sim"
      ]
    },
    {
      "cell_type": "code",
      "execution_count": 39,
      "metadata": {
        "colab": {
          "base_uri": "https://localhost:8080/"
        },
        "id": "6AStNLy8VJkx",
        "outputId": "7ef4e041-4af9-4afa-a988-eac9094a40e5"
      },
      "outputs": [
        {
          "output_type": "execute_result",
          "data": {
            "text/plain": [
              "(0.45, 'brittle nail')"
            ]
          },
          "metadata": {},
          "execution_count": 39
        }
      ],
      "source": [
        "semantic_similarity('nervous',all_symp_pr)"
      ]
    },
    {
      "cell_type": "code",
      "execution_count": 40,
      "metadata": {
        "id": "Oalw-t9QVJnA"
      },
      "outputs": [],
      "source": [
        "all_symp_pr.sort()"
      ]
    },
    {
      "cell_type": "code",
      "execution_count": 41,
      "metadata": {
        "colab": {
          "base_uri": "https://localhost:8080/"
        },
        "id": "jWqrC5XEVJpD",
        "outputId": "e1abf045-1e67-48a4-ea58-fd35701c5409"
      },
      "outputs": [
        {
          "output_type": "execute_result",
          "data": {
            "text/plain": [
              "['abdominal pain',\n",
              " 'abnormal menstruation',\n",
              " 'acidity',\n",
              " 'acute liver failure',\n",
              " 'alter sensorium',\n",
              " 'anxiety',\n",
              " 'belly pain',\n",
              " 'blackhead',\n",
              " 'bladder discomfort',\n",
              " 'blister',\n",
              " 'blood sputum',\n",
              " 'bloody stool',\n",
              " 'blur distorted vision',\n",
              " 'breathlessness',\n",
              " 'brittle nail',\n",
              " 'bruise',\n",
              " 'burn micturition',\n",
              " 'chest pain',\n",
              " 'chill',\n",
              " 'cold hand feet',\n",
              " 'coma',\n",
              " 'congestion',\n",
              " 'constipation',\n",
              " 'continuous feel urine',\n",
              " 'continuous sneezing',\n",
              " 'cough',\n",
              " 'cramp',\n",
              " 'dark urine',\n",
              " 'dehydration',\n",
              " 'depression',\n",
              " 'diarrhoea',\n",
              " 'dischromic patch',\n",
              " 'distention abdoman',\n",
              " 'dizziness',\n",
              " 'dry tingle lip',\n",
              " 'enlarge thyroid',\n",
              " 'excessive hunger',\n",
              " 'extra marital contact',\n",
              " 'family history',\n",
              " 'fast heart rate',\n",
              " 'fatigue',\n",
              " 'fluid overload',\n",
              " 'fluid overload',\n",
              " 'foul smell urine',\n",
              " 'headache',\n",
              " 'high fever',\n",
              " 'hip joint pain',\n",
              " 'history alcohol consumption',\n",
              " 'increase appetite',\n",
              " 'indigestion',\n",
              " 'inflammatory nail',\n",
              " 'internal itching',\n",
              " 'irregular sugar level',\n",
              " 'irritability',\n",
              " 'irritation anus',\n",
              " 'itch',\n",
              " 'joint pain',\n",
              " 'knee pain',\n",
              " 'lack concentration',\n",
              " 'lethargy',\n",
              " 'loss appetite',\n",
              " 'loss balance',\n",
              " 'loss smell',\n",
              " 'malaise',\n",
              " 'mild fever',\n",
              " 'mood swing',\n",
              " 'movement stiffness',\n",
              " 'mucoid sputum',\n",
              " 'muscle pain',\n",
              " 'muscle waste',\n",
              " 'muscle weakness',\n",
              " 'nausea',\n",
              " 'neck pain',\n",
              " 'nodal skin eruption',\n",
              " 'obesity',\n",
              " 'pain',\n",
              " 'pain anal region',\n",
              " 'pain bowel movement',\n",
              " 'pain eye',\n",
              " 'painful walking',\n",
              " 'palpitation',\n",
              " 'passage gas',\n",
              " 'patch throat',\n",
              " 'phlegm',\n",
              " 'polyuria',\n",
              " 'prominent vein calf',\n",
              " 'puffy face eye',\n",
              " 'pus fill pimple',\n",
              " 'receive blood transfusion',\n",
              " 'receive unsterile injection',\n",
              " 'red sore nose',\n",
              " 'red spot body',\n",
              " 'redness eye',\n",
              " 'restlessness',\n",
              " 'runny nose',\n",
              " 'rusty sputum',\n",
              " 'scurre',\n",
              " 'shiver',\n",
              " 'silver like dust',\n",
              " 'sink eye',\n",
              " 'sinus pressure',\n",
              " 'skin peel',\n",
              " 'skin rash',\n",
              " 'slur speech',\n",
              " 'small dent nail',\n",
              " 'spin movement',\n",
              " 'spot urination',\n",
              " 'stiff neck',\n",
              " 'stomach bleeding',\n",
              " 'stomach pain',\n",
              " 'sweat',\n",
              " 'swell joint',\n",
              " 'swell lymph node',\n",
              " 'swelling stomach',\n",
              " 'swollen blood vessel',\n",
              " 'swollen extremetie',\n",
              " 'swollen leg',\n",
              " 'throat irritation',\n",
              " 'toxic look',\n",
              " 'ulcer tongue',\n",
              " 'unsteadiness',\n",
              " 'visual disturbance',\n",
              " 'vomit',\n",
              " 'water eye',\n",
              " 'weakness body',\n",
              " 'weakness limb',\n",
              " 'weight gain',\n",
              " 'weight loss',\n",
              " 'yellow crust ooze',\n",
              " 'yellow eye',\n",
              " 'yellow skin',\n",
              " 'yellow urine']"
            ]
          },
          "metadata": {},
          "execution_count": 41
        }
      ],
      "source": [
        "all_symp_pr"
      ]
    },
    {
      "cell_type": "code",
      "execution_count": 42,
      "metadata": {
        "id": "wKbhhXEjWCt7"
      },
      "outputs": [],
      "source": [
        "from itertools import chain\n",
        "from nltk.corpus import wordnet\n",
        "def suggest_syn(sym):\n",
        "    symp=[]\n",
        "    synonyms = wordnet.synsets(sym)\n",
        "    lemmas=[word.lemma_names() for word in synonyms]\n",
        "    lemmas = list(set(chain(*lemmas)))\n",
        "    for e in lemmas:\n",
        "        res,sym1=semantic_similarity(e,all_symp_pr)\n",
        "        if res!=0:\n",
        "            symp.append(sym1)\n",
        "    return list(set(symp))"
      ]
    },
    {
      "cell_type": "code",
      "execution_count": 43,
      "metadata": {
        "colab": {
          "base_uri": "https://localhost:8080/"
        },
        "id": "MnODB8ZdWCw-",
        "outputId": "d2f5bb24-2dbb-4baa-e3b8-a4cc1010496a"
      },
      "outputs": [
        {
          "output_type": "execute_result",
          "data": {
            "text/plain": [
              "['unsteadiness', 'brittle nail', 'blur distorted vision', 'malaise']"
            ]
          },
          "metadata": {},
          "execution_count": 43
        }
      ],
      "source": [
        "suggest_syn('worried')"
      ]
    },
    {
      "cell_type": "code",
      "execution_count": 44,
      "metadata": {
        "id": "GYZ_DOiJWCz8"
      },
      "outputs": [],
      "source": [
        "#recoit client_symptoms et renvoit un dataframe avec 1 pour les symptoms associees\n",
        "def OHV(cl_sym,all_sym):\n",
        "    l=np.zeros([1,len(all_sym)])\n",
        "    for sym in cl_sym:\n",
        "        l[0,all_sym.index(sym)]=1\n",
        "    return pd.DataFrame(l, columns =all_symp)"
      ]
    },
    {
      "cell_type": "code",
      "execution_count": 45,
      "metadata": {
        "id": "bb2u41VpWC4I"
      },
      "outputs": [],
      "source": [
        "def contains(small, big):\n",
        "    a=True\n",
        "    for i in small:\n",
        "        if i not in big:\n",
        "            a=False\n",
        "    return a"
      ]
    },
    {
      "cell_type": "code",
      "execution_count": 46,
      "metadata": {
        "id": "3Hh5uWStWC8T"
      },
      "outputs": [],
      "source": [
        "def possible_diseases(l):\n",
        "    poss_dis=[]\n",
        "    for dis in set(disease):\n",
        "        if contains(l,symVONdisease(df_tr,dis)):\n",
        "            poss_dis.append(dis)\n",
        "    return poss_dis"
      ]
    },
    {
      "cell_type": "code",
      "execution_count": 47,
      "metadata": {
        "colab": {
          "base_uri": "https://localhost:8080/"
        },
        "id": "CT0Km8MXWC9y",
        "outputId": "5b23bc4d-c707-4d19-97d6-63b15f9c972e"
      },
      "outputs": [
        {
          "output_type": "execute_result",
          "data": {
            "text/plain": [
              "{'(vertigo) Paroymsal  Positional Vertigo',\n",
              " 'AIDS',\n",
              " 'Acne',\n",
              " 'Alcoholic hepatitis',\n",
              " 'Allergy',\n",
              " 'Arthritis',\n",
              " 'Bronchial Asthma',\n",
              " 'Cervical spondylosis',\n",
              " 'Chicken pox',\n",
              " 'Chronic cholestasis',\n",
              " 'Common Cold',\n",
              " 'Dengue',\n",
              " 'Diabetes ',\n",
              " 'Dimorphic hemmorhoids(piles)',\n",
              " 'Drug Reaction',\n",
              " 'Fungal infection',\n",
              " 'GERD',\n",
              " 'Gastroenteritis',\n",
              " 'Heart attack',\n",
              " 'Hepatitis B',\n",
              " 'Hepatitis C',\n",
              " 'Hepatitis D',\n",
              " 'Hepatitis E',\n",
              " 'Hypertension ',\n",
              " 'Hyperthyroidism',\n",
              " 'Hypoglycemia',\n",
              " 'Hypothyroidism',\n",
              " 'Impetigo',\n",
              " 'Jaundice',\n",
              " 'Malaria',\n",
              " 'Migraine',\n",
              " 'Osteoarthristis',\n",
              " 'Paralysis (brain hemorrhage)',\n",
              " 'Peptic ulcer diseae',\n",
              " 'Pneumonia',\n",
              " 'Psoriasis',\n",
              " 'Tuberculosis',\n",
              " 'Typhoid',\n",
              " 'Urinary tract infection',\n",
              " 'Varicose veins',\n",
              " 'hepatitis A'}"
            ]
          },
          "metadata": {},
          "execution_count": 47
        }
      ],
      "source": [
        "set(disease)"
      ]
    },
    {
      "cell_type": "code",
      "execution_count": 48,
      "metadata": {
        "id": "LNGvmCAxWDAQ"
      },
      "outputs": [],
      "source": [
        "#recoit une maladie renvoit tous les sympts\n",
        "def symVONdisease(df,disease):\n",
        "    ddf=df[df.prognosis==disease]\n",
        "    m2 = (ddf == 1).any()\n",
        "    return m2.index[m2].tolist()"
      ]
    },
    {
      "cell_type": "code",
      "execution_count": 49,
      "metadata": {
        "colab": {
          "base_uri": "https://localhost:8080/"
        },
        "id": "qG3hc6YaWDC5",
        "outputId": "b40e3556-865d-4d6c-ede6-c613d87b8af7"
      },
      "outputs": [
        {
          "output_type": "execute_result",
          "data": {
            "text/plain": [
              "['itching',\n",
              " 'vomiting',\n",
              " 'fatigue',\n",
              " 'weight_loss',\n",
              " 'high_fever',\n",
              " 'yellowish_skin',\n",
              " 'dark_urine',\n",
              " 'abdominal_pain']"
            ]
          },
          "metadata": {},
          "execution_count": 49
        }
      ],
      "source": [
        "symVONdisease(df_tr,'Jaundice')"
      ]
    },
    {
      "cell_type": "code",
      "execution_count": 50,
      "metadata": {
        "id": "BrLI7IRKWDFr"
      },
      "outputs": [],
      "source": [
        "from sklearn.neighbors import KNeighborsClassifier\n",
        "from sklearn.tree import DecisionTreeClassifier\n",
        "from sklearn.metrics import classification_report"
      ]
    },
    {
      "cell_type": "code",
      "execution_count": 51,
      "metadata": {
        "id": "y9SZdMQJWDIa"
      },
      "outputs": [],
      "source": [
        "X_train=df_tr.iloc[:,:-1]\n",
        "X_test=df_tt.iloc[:,:-1]\n",
        "y_train = df_tr.iloc[:,-1]\n",
        "y_test = df_tt.iloc[:,-1]"
      ]
    },
    {
      "cell_type": "code",
      "execution_count": 52,
      "metadata": {
        "colab": {
          "base_uri": "https://localhost:8080/",
          "height": 74
        },
        "id": "JkhwjI1UWDLJ",
        "outputId": "cb250c4e-91a1-4f25-a9ac-be87f696eba9"
      },
      "outputs": [
        {
          "output_type": "execute_result",
          "data": {
            "text/plain": [
              "KNeighborsClassifier()"
            ],
            "text/html": [
              "<style>#sk-container-id-1 {color: black;background-color: white;}#sk-container-id-1 pre{padding: 0;}#sk-container-id-1 div.sk-toggleable {background-color: white;}#sk-container-id-1 label.sk-toggleable__label {cursor: pointer;display: block;width: 100%;margin-bottom: 0;padding: 0.3em;box-sizing: border-box;text-align: center;}#sk-container-id-1 label.sk-toggleable__label-arrow:before {content: \"▸\";float: left;margin-right: 0.25em;color: #696969;}#sk-container-id-1 label.sk-toggleable__label-arrow:hover:before {color: black;}#sk-container-id-1 div.sk-estimator:hover label.sk-toggleable__label-arrow:before {color: black;}#sk-container-id-1 div.sk-toggleable__content {max-height: 0;max-width: 0;overflow: hidden;text-align: left;background-color: #f0f8ff;}#sk-container-id-1 div.sk-toggleable__content pre {margin: 0.2em;color: black;border-radius: 0.25em;background-color: #f0f8ff;}#sk-container-id-1 input.sk-toggleable__control:checked~div.sk-toggleable__content {max-height: 200px;max-width: 100%;overflow: auto;}#sk-container-id-1 input.sk-toggleable__control:checked~label.sk-toggleable__label-arrow:before {content: \"▾\";}#sk-container-id-1 div.sk-estimator input.sk-toggleable__control:checked~label.sk-toggleable__label {background-color: #d4ebff;}#sk-container-id-1 div.sk-label input.sk-toggleable__control:checked~label.sk-toggleable__label {background-color: #d4ebff;}#sk-container-id-1 input.sk-hidden--visually {border: 0;clip: rect(1px 1px 1px 1px);clip: rect(1px, 1px, 1px, 1px);height: 1px;margin: -1px;overflow: hidden;padding: 0;position: absolute;width: 1px;}#sk-container-id-1 div.sk-estimator {font-family: monospace;background-color: #f0f8ff;border: 1px dotted black;border-radius: 0.25em;box-sizing: border-box;margin-bottom: 0.5em;}#sk-container-id-1 div.sk-estimator:hover {background-color: #d4ebff;}#sk-container-id-1 div.sk-parallel-item::after {content: \"\";width: 100%;border-bottom: 1px solid gray;flex-grow: 1;}#sk-container-id-1 div.sk-label:hover label.sk-toggleable__label {background-color: #d4ebff;}#sk-container-id-1 div.sk-serial::before {content: \"\";position: absolute;border-left: 1px solid gray;box-sizing: border-box;top: 0;bottom: 0;left: 50%;z-index: 0;}#sk-container-id-1 div.sk-serial {display: flex;flex-direction: column;align-items: center;background-color: white;padding-right: 0.2em;padding-left: 0.2em;position: relative;}#sk-container-id-1 div.sk-item {position: relative;z-index: 1;}#sk-container-id-1 div.sk-parallel {display: flex;align-items: stretch;justify-content: center;background-color: white;position: relative;}#sk-container-id-1 div.sk-item::before, #sk-container-id-1 div.sk-parallel-item::before {content: \"\";position: absolute;border-left: 1px solid gray;box-sizing: border-box;top: 0;bottom: 0;left: 50%;z-index: -1;}#sk-container-id-1 div.sk-parallel-item {display: flex;flex-direction: column;z-index: 1;position: relative;background-color: white;}#sk-container-id-1 div.sk-parallel-item:first-child::after {align-self: flex-end;width: 50%;}#sk-container-id-1 div.sk-parallel-item:last-child::after {align-self: flex-start;width: 50%;}#sk-container-id-1 div.sk-parallel-item:only-child::after {width: 0;}#sk-container-id-1 div.sk-dashed-wrapped {border: 1px dashed gray;margin: 0 0.4em 0.5em 0.4em;box-sizing: border-box;padding-bottom: 0.4em;background-color: white;}#sk-container-id-1 div.sk-label label {font-family: monospace;font-weight: bold;display: inline-block;line-height: 1.2em;}#sk-container-id-1 div.sk-label-container {text-align: center;}#sk-container-id-1 div.sk-container {/* jupyter's `normalize.less` sets `[hidden] { display: none; }` but bootstrap.min.css set `[hidden] { display: none !important; }` so we also need the `!important` here to be able to override the default hidden behavior on the sphinx rendered scikit-learn.org. See: https://github.com/scikit-learn/scikit-learn/issues/21755 */display: inline-block !important;position: relative;}#sk-container-id-1 div.sk-text-repr-fallback {display: none;}</style><div id=\"sk-container-id-1\" class=\"sk-top-container\"><div class=\"sk-text-repr-fallback\"><pre>KNeighborsClassifier()</pre><b>In a Jupyter environment, please rerun this cell to show the HTML representation or trust the notebook. <br />On GitHub, the HTML representation is unable to render, please try loading this page with nbviewer.org.</b></div><div class=\"sk-container\" hidden><div class=\"sk-item\"><div class=\"sk-estimator sk-toggleable\"><input class=\"sk-toggleable__control sk-hidden--visually\" id=\"sk-estimator-id-1\" type=\"checkbox\" checked><label for=\"sk-estimator-id-1\" class=\"sk-toggleable__label sk-toggleable__label-arrow\">KNeighborsClassifier</label><div class=\"sk-toggleable__content\"><pre>KNeighborsClassifier()</pre></div></div></div></div></div>"
            ]
          },
          "metadata": {},
          "execution_count": 52
        }
      ],
      "source": [
        "knn_clf=KNeighborsClassifier()\n",
        "knn_clf.fit(X_train,y_train)"
      ]
    },
    {
      "cell_type": "code",
      "execution_count": 53,
      "metadata": {
        "colab": {
          "base_uri": "https://localhost:8080/",
          "height": 74
        },
        "id": "Qjh2GbM1WDNY",
        "outputId": "f786d110-fba6-457c-fc1b-f0ee7ac0488b"
      },
      "outputs": [
        {
          "output_type": "execute_result",
          "data": {
            "text/plain": [
              "DecisionTreeClassifier()"
            ],
            "text/html": [
              "<style>#sk-container-id-2 {color: black;background-color: white;}#sk-container-id-2 pre{padding: 0;}#sk-container-id-2 div.sk-toggleable {background-color: white;}#sk-container-id-2 label.sk-toggleable__label {cursor: pointer;display: block;width: 100%;margin-bottom: 0;padding: 0.3em;box-sizing: border-box;text-align: center;}#sk-container-id-2 label.sk-toggleable__label-arrow:before {content: \"▸\";float: left;margin-right: 0.25em;color: #696969;}#sk-container-id-2 label.sk-toggleable__label-arrow:hover:before {color: black;}#sk-container-id-2 div.sk-estimator:hover label.sk-toggleable__label-arrow:before {color: black;}#sk-container-id-2 div.sk-toggleable__content {max-height: 0;max-width: 0;overflow: hidden;text-align: left;background-color: #f0f8ff;}#sk-container-id-2 div.sk-toggleable__content pre {margin: 0.2em;color: black;border-radius: 0.25em;background-color: #f0f8ff;}#sk-container-id-2 input.sk-toggleable__control:checked~div.sk-toggleable__content {max-height: 200px;max-width: 100%;overflow: auto;}#sk-container-id-2 input.sk-toggleable__control:checked~label.sk-toggleable__label-arrow:before {content: \"▾\";}#sk-container-id-2 div.sk-estimator input.sk-toggleable__control:checked~label.sk-toggleable__label {background-color: #d4ebff;}#sk-container-id-2 div.sk-label input.sk-toggleable__control:checked~label.sk-toggleable__label {background-color: #d4ebff;}#sk-container-id-2 input.sk-hidden--visually {border: 0;clip: rect(1px 1px 1px 1px);clip: rect(1px, 1px, 1px, 1px);height: 1px;margin: -1px;overflow: hidden;padding: 0;position: absolute;width: 1px;}#sk-container-id-2 div.sk-estimator {font-family: monospace;background-color: #f0f8ff;border: 1px dotted black;border-radius: 0.25em;box-sizing: border-box;margin-bottom: 0.5em;}#sk-container-id-2 div.sk-estimator:hover {background-color: #d4ebff;}#sk-container-id-2 div.sk-parallel-item::after {content: \"\";width: 100%;border-bottom: 1px solid gray;flex-grow: 1;}#sk-container-id-2 div.sk-label:hover label.sk-toggleable__label {background-color: #d4ebff;}#sk-container-id-2 div.sk-serial::before {content: \"\";position: absolute;border-left: 1px solid gray;box-sizing: border-box;top: 0;bottom: 0;left: 50%;z-index: 0;}#sk-container-id-2 div.sk-serial {display: flex;flex-direction: column;align-items: center;background-color: white;padding-right: 0.2em;padding-left: 0.2em;position: relative;}#sk-container-id-2 div.sk-item {position: relative;z-index: 1;}#sk-container-id-2 div.sk-parallel {display: flex;align-items: stretch;justify-content: center;background-color: white;position: relative;}#sk-container-id-2 div.sk-item::before, #sk-container-id-2 div.sk-parallel-item::before {content: \"\";position: absolute;border-left: 1px solid gray;box-sizing: border-box;top: 0;bottom: 0;left: 50%;z-index: -1;}#sk-container-id-2 div.sk-parallel-item {display: flex;flex-direction: column;z-index: 1;position: relative;background-color: white;}#sk-container-id-2 div.sk-parallel-item:first-child::after {align-self: flex-end;width: 50%;}#sk-container-id-2 div.sk-parallel-item:last-child::after {align-self: flex-start;width: 50%;}#sk-container-id-2 div.sk-parallel-item:only-child::after {width: 0;}#sk-container-id-2 div.sk-dashed-wrapped {border: 1px dashed gray;margin: 0 0.4em 0.5em 0.4em;box-sizing: border-box;padding-bottom: 0.4em;background-color: white;}#sk-container-id-2 div.sk-label label {font-family: monospace;font-weight: bold;display: inline-block;line-height: 1.2em;}#sk-container-id-2 div.sk-label-container {text-align: center;}#sk-container-id-2 div.sk-container {/* jupyter's `normalize.less` sets `[hidden] { display: none; }` but bootstrap.min.css set `[hidden] { display: none !important; }` so we also need the `!important` here to be able to override the default hidden behavior on the sphinx rendered scikit-learn.org. See: https://github.com/scikit-learn/scikit-learn/issues/21755 */display: inline-block !important;position: relative;}#sk-container-id-2 div.sk-text-repr-fallback {display: none;}</style><div id=\"sk-container-id-2\" class=\"sk-top-container\"><div class=\"sk-text-repr-fallback\"><pre>DecisionTreeClassifier()</pre><b>In a Jupyter environment, please rerun this cell to show the HTML representation or trust the notebook. <br />On GitHub, the HTML representation is unable to render, please try loading this page with nbviewer.org.</b></div><div class=\"sk-container\" hidden><div class=\"sk-item\"><div class=\"sk-estimator sk-toggleable\"><input class=\"sk-toggleable__control sk-hidden--visually\" id=\"sk-estimator-id-2\" type=\"checkbox\" checked><label for=\"sk-estimator-id-2\" class=\"sk-toggleable__label sk-toggleable__label-arrow\">DecisionTreeClassifier</label><div class=\"sk-toggleable__content\"><pre>DecisionTreeClassifier()</pre></div></div></div></div></div>"
            ]
          },
          "metadata": {},
          "execution_count": 53
        }
      ],
      "source": [
        "dt_clf = DecisionTreeClassifier()\n",
        "dt_clf.fit(X_train, y_train)"
      ]
    },
    {
      "cell_type": "code",
      "execution_count": 54,
      "metadata": {
        "colab": {
          "base_uri": "https://localhost:8080/"
        },
        "id": "xJqya5rhWDPk",
        "outputId": "f20a776a-ef58-4783-cda2-8f78891ddea2"
      },
      "outputs": [
        {
          "output_type": "stream",
          "name": "stdout",
          "text": [
            "                                         precision    recall  f1-score   support\n",
            "\n",
            "(vertigo) Paroymsal  Positional Vertigo       1.00      1.00      1.00         1\n",
            "                                   AIDS       1.00      1.00      1.00         1\n",
            "                                   Acne       1.00      1.00      1.00         1\n",
            "                    Alcoholic hepatitis       1.00      1.00      1.00         1\n",
            "                                Allergy       1.00      1.00      1.00         1\n",
            "                              Arthritis       1.00      1.00      1.00         1\n",
            "                       Bronchial Asthma       1.00      1.00      1.00         1\n",
            "                   Cervical spondylosis       1.00      1.00      1.00         1\n",
            "                            Chicken pox       1.00      1.00      1.00         1\n",
            "                    Chronic cholestasis       1.00      1.00      1.00         1\n",
            "                            Common Cold       1.00      1.00      1.00         1\n",
            "                                 Dengue       1.00      1.00      1.00         1\n",
            "                              Diabetes        1.00      1.00      1.00         1\n",
            "           Dimorphic hemmorhoids(piles)       1.00      1.00      1.00         1\n",
            "                          Drug Reaction       1.00      1.00      1.00         1\n",
            "                       Fungal infection       1.00      1.00      1.00         1\n",
            "                                   GERD       1.00      1.00      1.00         1\n",
            "                        Gastroenteritis       1.00      1.00      1.00         1\n",
            "                           Heart attack       1.00      1.00      1.00         1\n",
            "                            Hepatitis B       1.00      1.00      1.00         1\n",
            "                            Hepatitis C       1.00      1.00      1.00         1\n",
            "                            Hepatitis D       1.00      1.00      1.00         1\n",
            "                            Hepatitis E       1.00      1.00      1.00         1\n",
            "                          Hypertension        1.00      1.00      1.00         1\n",
            "                        Hyperthyroidism       1.00      1.00      1.00         1\n",
            "                           Hypoglycemia       1.00      1.00      1.00         1\n",
            "                         Hypothyroidism       1.00      1.00      1.00         1\n",
            "                               Impetigo       1.00      1.00      1.00         1\n",
            "                               Jaundice       1.00      1.00      1.00         1\n",
            "                                Malaria       1.00      1.00      1.00         1\n",
            "                               Migraine       1.00      1.00      1.00         1\n",
            "                        Osteoarthristis       1.00      1.00      1.00         1\n",
            "           Paralysis (brain hemorrhage)       1.00      1.00      1.00         1\n",
            "                    Peptic ulcer diseae       1.00      1.00      1.00         1\n",
            "                              Pneumonia       1.00      1.00      1.00         1\n",
            "                              Psoriasis       1.00      1.00      1.00         1\n",
            "                           Tuberculosis       1.00      1.00      1.00         1\n",
            "                                Typhoid       1.00      1.00      1.00         1\n",
            "                Urinary tract infection       1.00      1.00      1.00         1\n",
            "                         Varicose veins       1.00      1.00      1.00         1\n",
            "                            hepatitis A       1.00      1.00      1.00         1\n",
            "\n",
            "                               accuracy                           1.00        41\n",
            "                              macro avg       1.00      1.00      1.00        41\n",
            "                           weighted avg       1.00      1.00      1.00        41\n",
            "\n"
          ]
        }
      ],
      "source": [
        "print(classification_report(y_test,knn_clf.predict(X_test)))"
      ]
    },
    {
      "cell_type": "code",
      "execution_count": 55,
      "metadata": {
        "colab": {
          "base_uri": "https://localhost:8080/"
        },
        "id": "UFhQwETXWDSt",
        "outputId": "91868527-c9b4-4c1d-817c-ef42a2532bd9"
      },
      "outputs": [
        {
          "output_type": "stream",
          "name": "stdout",
          "text": [
            "                                         precision    recall  f1-score   support\n",
            "\n",
            "(vertigo) Paroymsal  Positional Vertigo       1.00      1.00      1.00         1\n",
            "                                   AIDS       1.00      1.00      1.00         1\n",
            "                                   Acne       1.00      1.00      1.00         1\n",
            "                    Alcoholic hepatitis       1.00      1.00      1.00         1\n",
            "                                Allergy       1.00      1.00      1.00         1\n",
            "                              Arthritis       1.00      1.00      1.00         1\n",
            "                       Bronchial Asthma       1.00      1.00      1.00         1\n",
            "                   Cervical spondylosis       1.00      1.00      1.00         1\n",
            "                            Chicken pox       1.00      1.00      1.00         1\n",
            "                    Chronic cholestasis       1.00      1.00      1.00         1\n",
            "                            Common Cold       1.00      1.00      1.00         1\n",
            "                                 Dengue       1.00      1.00      1.00         1\n",
            "                              Diabetes        1.00      1.00      1.00         1\n",
            "           Dimorphic hemmorhoids(piles)       1.00      1.00      1.00         1\n",
            "                          Drug Reaction       1.00      1.00      1.00         1\n",
            "                       Fungal infection       1.00      1.00      1.00         1\n",
            "                                   GERD       1.00      1.00      1.00         1\n",
            "                        Gastroenteritis       1.00      1.00      1.00         1\n",
            "                           Heart attack       1.00      1.00      1.00         1\n",
            "                            Hepatitis B       1.00      1.00      1.00         1\n",
            "                            Hepatitis C       1.00      1.00      1.00         1\n",
            "                            Hepatitis D       1.00      1.00      1.00         1\n",
            "                            Hepatitis E       1.00      1.00      1.00         1\n",
            "                          Hypertension        1.00      1.00      1.00         1\n",
            "                        Hyperthyroidism       1.00      1.00      1.00         1\n",
            "                           Hypoglycemia       1.00      1.00      1.00         1\n",
            "                         Hypothyroidism       1.00      1.00      1.00         1\n",
            "                               Impetigo       1.00      1.00      1.00         1\n",
            "                               Jaundice       1.00      1.00      1.00         1\n",
            "                                Malaria       1.00      1.00      1.00         1\n",
            "                               Migraine       1.00      1.00      1.00         1\n",
            "                        Osteoarthristis       1.00      1.00      1.00         1\n",
            "           Paralysis (brain hemorrhage)       1.00      1.00      1.00         1\n",
            "                    Peptic ulcer diseae       1.00      1.00      1.00         1\n",
            "                              Pneumonia       1.00      1.00      1.00         1\n",
            "                              Psoriasis       1.00      1.00      1.00         1\n",
            "                           Tuberculosis       1.00      1.00      1.00         1\n",
            "                                Typhoid       1.00      1.00      1.00         1\n",
            "                Urinary tract infection       1.00      1.00      1.00         1\n",
            "                         Varicose veins       1.00      1.00      1.00         1\n",
            "                            hepatitis A       1.00      1.00      1.00         1\n",
            "\n",
            "                               accuracy                           1.00        41\n",
            "                              macro avg       1.00      1.00      1.00        41\n",
            "                           weighted avg       1.00      1.00      1.00        41\n",
            "\n"
          ]
        }
      ],
      "source": [
        "print(classification_report(y_test,dt_clf.predict(X_test)))"
      ]
    },
    {
      "cell_type": "code",
      "execution_count": 56,
      "metadata": {
        "id": "W_kE5cnDWDVo"
      },
      "outputs": [],
      "source": [
        "severityDictionary=dict()\n",
        "description_list = dict()\n",
        "precautionDictionary=dict()\n",
        "\n",
        "def getDescription():\n",
        "    global description_list\n",
        "    with open('symptom_Description.csv') as csv_file:\n",
        "        csv_reader = csv.reader(csv_file, delimiter=',')\n",
        "        line_count = 0\n",
        "        for row in csv_reader:\n",
        "            _description={row[0]:row[1]}\n",
        "            description_list.update(_description)"
      ]
    },
    {
      "cell_type": "code",
      "execution_count": 57,
      "metadata": {
        "id": "yXeOr3tAWDYN"
      },
      "outputs": [],
      "source": [
        "def getSeverityDict():\n",
        "    global severityDictionary\n",
        "    with open('symptom_severity.csv') as csv_file:\n",
        "\n",
        "        csv_reader = csv.reader(csv_file, delimiter=',')\n",
        "        line_count = 0\n",
        "        try:\n",
        "            for row in csv_reader:\n",
        "                _diction={row[0]:int(row[1])}\n",
        "                severityDictionary.update(_diction)\n",
        "        except:\n",
        "            pass\n",
        "\n",
        "\n",
        "def getprecautionDict():\n",
        "    global precautionDictionary\n",
        "    with open('symptom_precaution.csv') as csv_file:\n",
        "\n",
        "        csv_reader = csv.reader(csv_file, delimiter=',')\n",
        "        line_count = 0\n",
        "        for row in csv_reader:\n",
        "            _prec={row[0]:[row[1],row[2],row[3],row[4]]}\n",
        "            precautionDictionary.update(_prec)"
      ]
    },
    {
      "cell_type": "code",
      "execution_count": 58,
      "metadata": {
        "id": "g6lw6ShHWDa9"
      },
      "outputs": [],
      "source": [
        "getSeverityDict()\n",
        "getprecautionDict()\n",
        "getDescription()"
      ]
    },
    {
      "cell_type": "code",
      "execution_count": 59,
      "metadata": {
        "colab": {
          "base_uri": "https://localhost:8080/"
        },
        "id": "KMEGA-WrWDdr",
        "outputId": "acb5fe5c-111c-4dca-f122-af29dabe02d4"
      },
      "outputs": [
        {
          "output_type": "execute_result",
          "data": {
            "text/plain": [
              "{'itching': 1,\n",
              " 'skin_rash': 3,\n",
              " 'nodal_skin_eruptions': 4,\n",
              " 'continuous_sneezing': 4,\n",
              " 'shivering': 5,\n",
              " 'chills': 3,\n",
              " 'joint_pain': 3,\n",
              " 'stomach_pain': 5,\n",
              " 'acidity': 3,\n",
              " 'ulcers_on_tongue': 4,\n",
              " 'muscle_wasting': 3,\n",
              " 'vomiting': 5,\n",
              " 'burning_micturition': 6,\n",
              " 'spotting_urination': 6,\n",
              " 'fatigue': 4,\n",
              " 'weight_gain': 3,\n",
              " 'anxiety': 4,\n",
              " 'cold_hands_and_feets': 5,\n",
              " 'mood_swings': 3,\n",
              " 'weight_loss': 3,\n",
              " 'restlessness': 5,\n",
              " 'lethargy': 2,\n",
              " 'patches_in_throat': 6,\n",
              " 'irregular_sugar_level': 5,\n",
              " 'cough': 4,\n",
              " 'high_fever': 7,\n",
              " 'sunken_eyes': 3,\n",
              " 'breathlessness': 4,\n",
              " 'sweating': 3,\n",
              " 'dehydration': 4,\n",
              " 'indigestion': 5,\n",
              " 'headache': 3,\n",
              " 'yellowish_skin': 3,\n",
              " 'dark_urine': 4,\n",
              " 'nausea': 5,\n",
              " 'loss_of_appetite': 4,\n",
              " 'pain_behind_the_eyes': 4,\n",
              " 'back_pain': 3,\n",
              " 'constipation': 4,\n",
              " 'abdominal_pain': 4,\n",
              " 'diarrhoea': 6,\n",
              " 'mild_fever': 5,\n",
              " 'yellow_urine': 4,\n",
              " 'yellowing_of_eyes': 4,\n",
              " 'acute_liver_failure': 6,\n",
              " 'fluid_overload': 4,\n",
              " 'swelling_of_stomach': 7,\n",
              " 'swelled_lymph_nodes': 6,\n",
              " 'malaise': 6,\n",
              " 'blurred_and_distorted_vision': 5,\n",
              " 'phlegm': 5,\n",
              " 'throat_irritation': 4,\n",
              " 'redness_of_eyes': 5,\n",
              " 'sinus_pressure': 4,\n",
              " 'runny_nose': 5,\n",
              " 'congestion': 5,\n",
              " 'chest_pain': 7,\n",
              " 'weakness_in_limbs': 7,\n",
              " 'fast_heart_rate': 5,\n",
              " 'pain_during_bowel_movements': 5,\n",
              " 'pain_in_anal_region': 6,\n",
              " 'bloody_stool': 5,\n",
              " 'irritation_in_anus': 6,\n",
              " 'neck_pain': 5,\n",
              " 'dizziness': 4,\n",
              " 'cramps': 4,\n",
              " 'bruising': 4,\n",
              " 'obesity': 4,\n",
              " 'swollen_legs': 5,\n",
              " 'swollen_blood_vessels': 5,\n",
              " 'puffy_face_and_eyes': 5,\n",
              " 'enlarged_thyroid': 6,\n",
              " 'brittle_nails': 5,\n",
              " 'swollen_extremeties': 5,\n",
              " 'excessive_hunger': 4,\n",
              " 'extra_marital_contacts': 5,\n",
              " 'drying_and_tingling_lips': 4,\n",
              " 'slurred_speech': 4,\n",
              " 'knee_pain': 3,\n",
              " 'hip_joint_pain': 2,\n",
              " 'muscle_weakness': 2,\n",
              " 'stiff_neck': 4,\n",
              " 'swelling_joints': 5,\n",
              " 'movement_stiffness': 5,\n",
              " 'spinning_movements': 6,\n",
              " 'loss_of_balance': 4,\n",
              " 'unsteadiness': 4,\n",
              " 'weakness_of_one_body_side': 4,\n",
              " 'loss_of_smell': 3,\n",
              " 'bladder_discomfort': 4,\n",
              " 'foul_smell_ofurine': 5,\n",
              " 'continuous_feel_of_urine': 6,\n",
              " 'passage_of_gases': 5,\n",
              " 'internal_itching': 4,\n",
              " 'toxic_look_(typhos)': 5,\n",
              " 'depression': 3,\n",
              " 'irritability': 2,\n",
              " 'muscle_pain': 2,\n",
              " 'altered_sensorium': 2,\n",
              " 'red_spots_over_body': 3,\n",
              " 'belly_pain': 4,\n",
              " 'abnormal_menstruation': 6,\n",
              " 'dischromic_patches': 6,\n",
              " 'watering_from_eyes': 4,\n",
              " 'increased_appetite': 5,\n",
              " 'polyuria': 4,\n",
              " 'family_history': 5,\n",
              " 'mucoid_sputum': 4,\n",
              " 'rusty_sputum': 4,\n",
              " 'lack_of_concentration': 3,\n",
              " 'visual_disturbances': 3,\n",
              " 'receiving_blood_transfusion': 5,\n",
              " 'receiving_unsterile_injections': 2,\n",
              " 'coma': 7,\n",
              " 'stomach_bleeding': 6,\n",
              " 'distention_of_abdomen': 4,\n",
              " 'history_of_alcohol_consumption': 5,\n",
              " 'blood_in_sputum': 5,\n",
              " 'prominent_veins_on_calf': 6,\n",
              " 'palpitations': 4,\n",
              " 'painful_walking': 2,\n",
              " 'pus_filled_pimples': 2,\n",
              " 'blackheads': 2,\n",
              " 'scurring': 2,\n",
              " 'skin_peeling': 3,\n",
              " 'silver_like_dusting': 2,\n",
              " 'small_dents_in_nails': 2,\n",
              " 'inflammatory_nails': 2,\n",
              " 'blister': 4,\n",
              " 'red_sore_around_nose': 2,\n",
              " 'yellow_crust_ooze': 3}"
            ]
          },
          "metadata": {},
          "execution_count": 59
        }
      ],
      "source": [
        "severityDictionary"
      ]
    },
    {
      "cell_type": "code",
      "execution_count": 60,
      "metadata": {
        "id": "3gISdp2BWDfz"
      },
      "outputs": [],
      "source": [
        "def calc_condition(exp,days):\n",
        "    sum=0\n",
        "    for item in exp:\n",
        "        if item in severityDictionary.keys():\n",
        "            sum=sum+severityDictionary[item]\n",
        "    if((sum*days)/(len(exp))>13):\n",
        "        return 1\n",
        "        print(\"You should take the consultation from doctor. \")\n",
        "    else:\n",
        "        return 0\n",
        "        print(\"It might not be that bad but you should take precautions.\")"
      ]
    },
    {
      "cell_type": "code",
      "execution_count": 61,
      "metadata": {
        "id": "iW3m0EIEWDiN"
      },
      "outputs": [],
      "source": [
        "def getInfo():\n",
        "    # name=input(\"Name:\")\n",
        "    print(\"Your Name \\n\\t\\t\\t\\t\\t\\t\",end=\"=>\")\n",
        "    name=input(\"\")\n",
        "    print(\"hello \",name)\n",
        "    return str(name)"
      ]
    },
    {
      "cell_type": "code",
      "execution_count": 62,
      "metadata": {
        "id": "eJ2pBfP_WDkS"
      },
      "outputs": [],
      "source": [
        "def related_sym(psym1):\n",
        "    if len(psym1)==1:\n",
        "        return psym1[0]\n",
        "    print(\"searches related to input: \")\n",
        "    for num,it in enumerate(psym1):\n",
        "        print(num,\")\",clean_symp(it))\n",
        "    if num!=0:\n",
        "        print(f\"Select the one you meant (0 - {num}):  \", end=\"\")\n",
        "        conf_inp = int(input(\"\"))\n",
        "    else:\n",
        "        conf_inp=0\n",
        "\n",
        "    disease_input=psym1[conf_inp]\n",
        "    return disease_input"
      ]
    },
    {
      "cell_type": "code",
      "execution_count": 63,
      "metadata": {
        "id": "yvWCub8XWDmr"
      },
      "outputs": [],
      "source": [
        "def main_sp(name,all_symp_col):\n",
        "    #main Idea: At least two initial sympts to start with\n",
        "\n",
        "    #get the 1st syp ->> process it ->> check_pattern ->>> get the appropriate one (if check_pattern==1 == similar syntaxic symp found)\n",
        "    print(\"Enter the main symptom you are experiencing Mr/Ms \"+name+\"  \\n\\t\\t\\t\\t\\t\\t\",end=\"=>\")\n",
        "    sym1 = input(\"\")\n",
        "    sym1=preprocess_sym(sym1)\n",
        "    sim1,psym1=syntactic_similarity(sym1,all_symp_pr)\n",
        "    if sim1==1:\n",
        "        psym1=related_sym(psym1)\n",
        "\n",
        "    #get the 2nd syp ->> process it ->> check_pattern ->>> get the appropriate one (if check_pattern==1 == similar syntaxic symp found)\n",
        "\n",
        "    print(\"Enter a second symptom you are experiencing Mr/Ms \"+name+\"  \\n\\t\\t\\t\\t\\t\\t\",end=\"=>\")\n",
        "    sym2=input(\"\")\n",
        "    sym2=preprocess_sym(sym2)\n",
        "    sim2,psym2=syntactic_similarity(sym2,all_symp_pr)\n",
        "    if sim2==1:\n",
        "        psym2=related_sym(psym2)\n",
        "\n",
        "    #if check_pattern==0 no similar syntaxic symp1 or symp2 ->> try semantic similarity\n",
        "\n",
        "    if sim1==0 or sim2==0:\n",
        "        sim1,psym1=semantic_similarity(sym1,all_symp_pr)\n",
        "        sim2,psym2=semantic_similarity(sym2,all_symp_pr)\n",
        "\n",
        "        #if semantic sim syp1 ==0 (no symp found) ->> suggest possible data symptoms based on all data and input sym synonymes\n",
        "        if sim1==0:\n",
        "            sugg=suggest_syn(sym1)\n",
        "            print('Are you experiencing any ')\n",
        "            for res in sugg:\n",
        "                print(res)\n",
        "                inp=input('')\n",
        "                if inp==\"yes\":\n",
        "                    psym1=res\n",
        "                    sim1=1\n",
        "                    break\n",
        "\n",
        "        #if semantic sim syp2 ==0 (no symp found) ->> suggest possible data symptoms based on all data and input sym synonymes\n",
        "        if sim2==0:\n",
        "            sugg=suggest_syn(sym2)\n",
        "            for res in sugg:\n",
        "                inp=input('Do you feel '+ res+\" ?(yes or no) \")\n",
        "                if inp==\"yes\":\n",
        "                    psym2=res\n",
        "                    sim2=1\n",
        "                    break\n",
        "        #if no syntaxic semantic and suggested sym found return None and ask for clarification\n",
        "\n",
        "        if sim1==0 and sim2==0:\n",
        "            return None,None\n",
        "        else:\n",
        "            # if at least one sym found ->> duplicate it and proceed\n",
        "            if sim1==0:\n",
        "                psym1=psym2\n",
        "            if sim2==0:\n",
        "                psym2=psym1\n",
        "    #create patient symp list\n",
        "    all_sym=[col_dict[psym1],col_dict[psym2]]\n",
        "    #predict possible diseases\n",
        "    diseases=possible_diseases(all_sym)\n",
        "    stop=False\n",
        "    print(\"Are you experiencing any \")\n",
        "    for dis in diseases:\n",
        "        print(diseases)\n",
        "        if stop==False:\n",
        "            for sym in symVONdisease(df_tr,dis):\n",
        "                if sym not in all_sym:\n",
        "                    print(clean_symp(sym)+' ?')\n",
        "                    while True:\n",
        "                        inp=input(\"\")\n",
        "                        if(inp==\"yes\" or inp==\"no\"):\n",
        "                            break\n",
        "                        else:\n",
        "                            print(\"provide proper answers i.e. (yes/no) : \",end=\"\")\n",
        "                    if inp==\"yes\":\n",
        "                        all_sym.append(sym)\n",
        "                        diseases=possible_diseases(all_sym)\n",
        "                        if len(diseases)==1:\n",
        "                            stop=True\n",
        "    return knn_clf.predict(OHV(all_sym,all_symp_col)),all_sym\n"
      ]
    },
    {
      "cell_type": "code",
      "execution_count": 64,
      "metadata": {
        "id": "-ISz8twmWDqd"
      },
      "outputs": [],
      "source": [
        "def chat_sp():\n",
        "    a=True\n",
        "    while a:\n",
        "        name=getInfo()\n",
        "        result,sym=main_sp(name,all_symp_col)\n",
        "        if result == None :\n",
        "            ans3=input(\"can you specify more what you feel or tap q to stop the conversation\")\n",
        "            if ans3==\"q\":\n",
        "                a=False\n",
        "            else:\n",
        "                continue\n",
        "\n",
        "        else:\n",
        "            print(\"you may have \"+result[0])\n",
        "            print(description_list[result[0]])\n",
        "            an=input(\"how many day do you feel those symptoms ?\")\n",
        "            if calc_condition(sym,int(an))==1:\n",
        "                print(\"you should take the consultation from doctor\")\n",
        "            else :\n",
        "                print('Take following precautions : ')\n",
        "                for e in precautionDictionary[result[0]]:\n",
        "                    print(e)\n",
        "            print(\"do you need another medical consultation (yes or no)? \")\n",
        "            ans=input()\n",
        "            if ans!=\"yes\":\n",
        "                a=False\n",
        "                print(\"!!!!! thanks for using ower application !!!!!! \")"
      ]
    },
    {
      "cell_type": "code",
      "execution_count": 65,
      "metadata": {
        "colab": {
          "base_uri": "https://localhost:8080/"
        },
        "id": "6X-CUfFCWDs5",
        "outputId": "bb83ec2d-3b28-4e77-a624-c27105dff6ea"
      },
      "outputs": [
        {
          "output_type": "execute_result",
          "data": {
            "text/plain": [
              "itching                        0\n",
              "skin_rash                      1\n",
              "nodal_skin_eruptions           0\n",
              "continuous_sneezing            0\n",
              "shivering                      0\n",
              "                          ...   \n",
              "inflammatory_nails             0\n",
              "blister                        1\n",
              "red_sore_around_nose           1\n",
              "yellow_crust_ooze              1\n",
              "prognosis               Impetigo\n",
              "Name: 4919, Length: 133, dtype: object"
            ]
          },
          "metadata": {},
          "execution_count": 65
        }
      ],
      "source": [
        "df_tr.iloc[-1]"
      ]
    },
    {
      "cell_type": "code",
      "execution_count": 66,
      "metadata": {
        "colab": {
          "base_uri": "https://localhost:8080/"
        },
        "id": "INxln1DjWDxj",
        "outputId": "d6c63977-4c02-4202-cb65-607501a23fb8"
      },
      "outputs": [
        {
          "output_type": "stream",
          "name": "stderr",
          "text": [
            "/usr/local/lib/python3.10/dist-packages/sklearn/base.py:318: UserWarning: Trying to unpickle estimator KNeighborsClassifier from version 0.24.2 when using version 1.2.2. This might lead to breaking code or invalid results. Use at your own risk. For more info please refer to:\n",
            "https://scikit-learn.org/stable/model_persistence.html#security-maintainability-limitations\n",
            "  warnings.warn(\n"
          ]
        }
      ],
      "source": [
        "import joblib\n",
        "knn_clf=joblib.load('knn.pkl')"
      ]
    },
    {
      "cell_type": "code",
      "execution_count": 67,
      "metadata": {
        "colab": {
          "base_uri": "https://localhost:8080/"
        },
        "id": "ZNJ3mQXUWD1E",
        "outputId": "5d997e37-81da-4075-ed6d-62099ae1f72b"
      },
      "outputs": [
        {
          "output_type": "execute_result",
          "data": {
            "text/plain": [
              "['itching',\n",
              " 'vomiting',\n",
              " 'fatigue',\n",
              " 'weight_loss',\n",
              " 'high_fever',\n",
              " 'yellowish_skin',\n",
              " 'dark_urine',\n",
              " 'abdominal_pain']"
            ]
          },
          "metadata": {},
          "execution_count": 67
        }
      ],
      "source": [
        "symVONdisease(df_tr,\"Jaundice\")"
      ]
    },
    {
      "cell_type": "code",
      "execution_count": 68,
      "metadata": {
        "colab": {
          "base_uri": "https://localhost:8080/"
        },
        "id": "5nwMbfJ0WD3P",
        "outputId": "9c80f86e-6953-44cf-ccf5-0804d285c55c"
      },
      "outputs": [
        {
          "output_type": "stream",
          "name": "stderr",
          "text": [
            "/usr/local/lib/python3.10/dist-packages/sklearn/base.py:432: UserWarning: X has feature names, but KNeighborsClassifier was fitted without feature names\n",
            "  warnings.warn(\n"
          ]
        },
        {
          "output_type": "execute_result",
          "data": {
            "text/plain": [
              "array(['Jaundice'], dtype=object)"
            ]
          },
          "metadata": {},
          "execution_count": 68
        }
      ],
      "source": [
        "knn_clf.predict(OHV(['fatigue', 'weight_loss', 'itching','high_fever'],all_symp_col))"
      ]
    },
    {
      "cell_type": "code",
      "execution_count": 69,
      "metadata": {
        "id": "Kd8neX9tWD6V"
      },
      "outputs": [],
      "source": [
        "d=df_tr[df_tr.iloc[:,-1]==\"Fungal infection\"].sum(axis=0)"
      ]
    },
    {
      "cell_type": "code",
      "execution_count": 70,
      "metadata": {
        "id": "iC08v8phWD9C"
      },
      "outputs": [],
      "source": [
        "cl=df_tr.columns"
      ]
    },
    {
      "cell_type": "code",
      "execution_count": 71,
      "metadata": {
        "id": "1nxFfAb3WEAl"
      },
      "outputs": [],
      "source": [
        "pp=d!=0"
      ]
    },
    {
      "cell_type": "code",
      "execution_count": 72,
      "metadata": {
        "colab": {
          "base_uri": "https://localhost:8080/"
        },
        "id": "zFSAlpJfVJsY",
        "outputId": "a510ba82-9667-4028-a067-b5fea1600229"
      },
      "outputs": [
        {
          "output_type": "execute_result",
          "data": {
            "text/plain": [
              "Index(['itching', 'skin_rash', 'nodal_skin_eruptions', 'dischromic _patches',\n",
              "       'prognosis'],\n",
              "      dtype='object')"
            ]
          },
          "metadata": {},
          "execution_count": 72
        }
      ],
      "source": [
        "cl[pp]"
      ]
    },
    {
      "cell_type": "code",
      "execution_count": 73,
      "metadata": {
        "colab": {
          "base_uri": "https://localhost:8080/"
        },
        "id": "-ouuOJHJYApM",
        "outputId": "72c8ed09-5a83-4f28-f495-af401db7b127"
      },
      "outputs": [
        {
          "output_type": "execute_result",
          "data": {
            "text/plain": [
              "itching                 108\n",
              "skin_rash               108\n",
              "nodal_skin_eruptions    108\n",
              "dischromic _patches     108\n",
              "dtype: object"
            ]
          },
          "metadata": {},
          "execution_count": 73
        }
      ],
      "source": [
        "d[pp].drop('prognosis')"
      ]
    },
    {
      "cell_type": "code",
      "execution_count": 75,
      "metadata": {
        "colab": {
          "base_uri": "https://localhost:8080/"
        },
        "id": "t8IV_lFHYCum",
        "outputId": "06d60a0c-f014-41c3-9e97-01b8d2dcda86"
      },
      "outputs": [
        {
          "name": "stdout",
          "output_type": "stream",
          "text": [
            "Your Name \n",
            "\t\t\t\t\t\t=>mohammed\n",
            "hello  mohammed\n",
            "Enter the main symptom you are experiencing Mr/Ms mohammed  \n",
            "\t\t\t\t\t\t=>itching\n",
            "Enter a second symptom you are experiencing Mr/Ms mohammed  \n",
            "\t\t\t\t\t\t=>fever\n",
            "searches related to input: \n",
            "0 ) mild fever\n",
            "1 ) high fever\n",
            "Select the one you meant (0 - 1):  0\n",
            "Are you experiencing any \n",
            "['Chicken pox']\n",
            "skin rash ?\n",
            "no\n",
            "fatigue ?\n",
            "no\n",
            "lethargy ?\n",
            "no\n",
            "high fever ?\n",
            "no\n",
            "headache ?\n",
            "yes\n",
            "loss of appetite ?\n",
            "no\n",
            "swelled lymph nodes ?\n",
            "no\n",
            "malaise ?\n",
            "no\n",
            "red spots over body ?\n",
            "no\n"
          ]
        },
        {
          "output_type": "stream",
          "name": "stderr",
          "text": [
            "/usr/local/lib/python3.10/dist-packages/sklearn/base.py:432: UserWarning: X has feature names, but KNeighborsClassifier was fitted without feature names\n",
            "  warnings.warn(\n"
          ]
        },
        {
          "output_type": "stream",
          "name": "stdout",
          "text": [
            "you may have Fungal infection\n",
            "In humans, fungal infections occur when an invading fungus takes over an area of the body and is too much for the immune system to handle. Fungi can live in the air, soil, water, and plants. There are also some fungi that live naturally in the human body. Like many microbes, there are helpful fungi and harmful fungi.\n",
            "how many day do you feel those symptoms ?3\n",
            "Take following precautions : \n",
            "bath twice\n",
            "use detol or neem in bathing water\n",
            "keep infected area dry\n",
            "use clean cloths\n",
            "do you need another medical consultation (yes or no)? \n",
            "no\n",
            "!!!!! thanks for using ower application !!!!!! \n"
          ]
        }
      ],
      "source": [
        "chat_sp()\n"
      ]
    }
  ],
  "metadata": {
    "colab": {
      "provenance": []
    },
    "kernelspec": {
      "display_name": "Python 3",
      "name": "python3"
    },
    "language_info": {
      "name": "python"
    }
  },
  "nbformat": 4,
  "nbformat_minor": 0
}